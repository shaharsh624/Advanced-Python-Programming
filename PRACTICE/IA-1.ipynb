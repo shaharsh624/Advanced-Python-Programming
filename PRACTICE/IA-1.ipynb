{
 "cells": [
  {
   "cell_type": "code",
   "execution_count": 1,
   "metadata": {},
   "outputs": [
    {
     "name": "stdout",
     "output_type": "stream",
     "text": [
      "* this\n"
     ]
    }
   ],
   "source": [
    "fp = open(\"test.txt\", \"a+\")\n",
    "txt = fp.read(5)\n",
    "print(txt, end=\"*\")\n",
    "fp.seek(5)\n",
    "print(fp.read(5))\n",
    "fp.close()"
   ]
  },
  {
   "cell_type": "code",
   "execution_count": 2,
   "metadata": {},
   "outputs": [
    {
     "name": "stdout",
     "output_type": "stream",
     "text": [
      "[1, 2, 15, 6, 7]\n"
     ]
    }
   ],
   "source": [
    "A = [1, 10, 2, 15, 20, 6, 4, 7]\n",
    "i = 0\n",
    "while i < len(A):\n",
    "    if A[i] % 2 == 0:\n",
    "        A.remove(A[i])\n",
    "    i = i + 1\n",
    "print(A)"
   ]
  },
  {
   "cell_type": "code",
   "execution_count": 3,
   "metadata": {},
   "outputs": [
    {
     "name": "stdout",
     "output_type": "stream",
     "text": [
      "0*Hello this*10\n"
     ]
    }
   ],
   "source": [
    "fp = open(\"test.txt\", \"r\")\n",
    "print(fp.tell(), end = \"*\")\n",
    "txt = fp.read(10)\n",
    "print(txt, end = \"*\")\n",
    "print(fp.tell())\n",
    "fp.close()"
   ]
  },
  {
   "cell_type": "code",
   "execution_count": 4,
   "metadata": {},
   "outputs": [
    {
     "name": "stdout",
     "output_type": "stream",
     "text": [
      "0*Hello this is*5\n"
     ]
    }
   ],
   "source": [
    "fp = open(\"test.txt\", \"r\")\n",
    "print(fp.tell(), end = \"*\")\n",
    "txt = fp.read(13)\n",
    "print(txt, end = \"*\")\n",
    "fp.seek(5)\n",
    "print(fp.tell())\n",
    "fp.close()"
   ]
  },
  {
   "cell_type": "code",
   "execution_count": 5,
   "metadata": {},
   "outputs": [
    {
     "ename": "NameError",
     "evalue": "name 'text' is not defined",
     "output_type": "error",
     "traceback": [
      "\u001b[1;31m---------------------------------------------------------------------------\u001b[0m",
      "\u001b[1;31mNameError\u001b[0m                                 Traceback (most recent call last)",
      "\u001b[1;32mc:\\Users\\harsh\\OneDrive - pdpu.ac.in\\HARSH\\_STUDY MATERIAL\\SEM 5\\Advanced Python Programming\\PRACTICE\\IA-k.ipynb Cell 5\u001b[0m line \u001b[0;36m1\n\u001b[0;32m      <a href='vscode-notebook-cell:/c%3A/Users/harsh/OneDrive%20-%20pdpu.ac.in/HARSH/_STUDY%20MATERIAL/SEM%205/Advanced%20Python%20Programming/PRACTICE/IA-k.ipynb#W4sZmlsZQ%3D%3D?line=8'>9</a>\u001b[0m     \u001b[39mreturn\u001b[39;00m x\n\u001b[0;32m     <a href='vscode-notebook-cell:/c%3A/Users/harsh/OneDrive%20-%20pdpu.ac.in/HARSH/_STUDY%20MATERIAL/SEM%205/Advanced%20Python%20Programming/PRACTICE/IA-k.ipynb#W4sZmlsZQ%3D%3D?line=9'>10</a>\u001b[0m info \u001b[39m=\u001b[39m \u001b[39m\"\u001b[39m\u001b[39mThis is a simple example. This is first IA\u001b[39m\u001b[39m\"\u001b[39m\n\u001b[1;32m---> <a href='vscode-notebook-cell:/c%3A/Users/harsh/OneDrive%20-%20pdpu.ac.in/HARSH/_STUDY%20MATERIAL/SEM%205/Advanced%20Python%20Programming/PRACTICE/IA-k.ipynb#W4sZmlsZQ%3D%3D?line=10'>11</a>\u001b[0m xx \u001b[39m=\u001b[39m xyz(text)\n\u001b[0;32m     <a href='vscode-notebook-cell:/c%3A/Users/harsh/OneDrive%20-%20pdpu.ac.in/HARSH/_STUDY%20MATERIAL/SEM%205/Advanced%20Python%20Programming/PRACTICE/IA-k.ipynb#W4sZmlsZQ%3D%3D?line=12'>13</a>\u001b[0m \u001b[39mfor\u001b[39;00m a, b \u001b[39min\u001b[39;00m xx\u001b[39m.\u001b[39mitems():\n\u001b[0;32m     <a href='vscode-notebook-cell:/c%3A/Users/harsh/OneDrive%20-%20pdpu.ac.in/HARSH/_STUDY%20MATERIAL/SEM%205/Advanced%20Python%20Programming/PRACTICE/IA-k.ipynb#W4sZmlsZQ%3D%3D?line=13'>14</a>\u001b[0m     \u001b[39mprint\u001b[39m(\u001b[39mf\u001b[39m\u001b[39m\"\u001b[39m\u001b[39m{\u001b[39;00ma\u001b[39m}\u001b[39;00m\u001b[39m: \u001b[39m\u001b[39m{\u001b[39;00mb\u001b[39m}\u001b[39;00m\u001b[39m\"\u001b[39m)\n",
      "\u001b[1;31mNameError\u001b[0m: name 'text' is not defined"
     ]
    }
   ],
   "source": [
    "def xyz(text):\n",
    "    x = {}\n",
    "    y = info.split()\n",
    "    for z in y:\n",
    "        if z in x:\n",
    "            x[z] += 1\n",
    "        else:\n",
    "            x[z] = 1\n",
    "    return x\n",
    "info = \"This is a simple example. This is first IA\"\n",
    "xx = xyz(text)\n",
    "\n",
    "for a, b in xx.items():\n",
    "    print(f\"{a}: {b}\")"
   ]
  },
  {
   "cell_type": "code",
   "execution_count": 7,
   "metadata": {},
   "outputs": [
    {
     "name": "stdout",
     "output_type": "stream",
     "text": [
      "16\n",
      "\n"
     ]
    }
   ],
   "source": [
    "# myscript.py\n",
    "# import sys\n",
    "# my_input = sys.argv\n",
    "# def sqr(a = int(my_input[1])):\n",
    "#     return a * a\n",
    "# if __name__==\"__main__\":\n",
    "#     print(sqr())\n",
    "\n",
    "import subprocess\n",
    "result = subprocess.run([\"python\", \"my_script.py\", \"4\", \"2\"], capture_output=True, text=True)\n",
    "print(result.stdout)"
   ]
  },
  {
   "cell_type": "code",
   "execution_count": 8,
   "metadata": {},
   "outputs": [
    {
     "name": "stdout",
     "output_type": "stream",
     "text": [
      "Value Error\n"
     ]
    }
   ],
   "source": [
    "try:\n",
    "    num = int(\"123\", base = 2)\n",
    "except ValueError:\n",
    "    print(\"Value Error\")\n",
    "except TypeError:\n",
    "    print(\"Type Error\")"
   ]
  },
  {
   "cell_type": "code",
   "execution_count": 9,
   "metadata": {},
   "outputs": [
    {
     "name": "stdout",
     "output_type": "stream",
     "text": [
      "Type Error\n"
     ]
    }
   ],
   "source": [
    "try:\n",
    "    result = sum(range(1, \"5\"))\n",
    "except ValueError:\n",
    "    print(\"Value Error\")\n",
    "except TypeError:\n",
    "    print(\"Type Error\")"
   ]
  },
  {
   "cell_type": "code",
   "execution_count": 10,
   "metadata": {},
   "outputs": [
    {
     "ename": "AttributeError",
     "evalue": "module 'json' has no attribute 'read'",
     "output_type": "error",
     "traceback": [
      "\u001b[1;31m---------------------------------------------------------------------------\u001b[0m",
      "\u001b[1;31mAttributeError\u001b[0m                            Traceback (most recent call last)",
      "\u001b[1;32mc:\\Users\\harsh\\OneDrive - pdpu.ac.in\\HARSH\\_STUDY MATERIAL\\SEM 5\\Advanced Python Programming\\PRACTICE\\IA-k.ipynb Cell 9\u001b[0m line \u001b[0;36m7\n\u001b[0;32m      <a href='vscode-notebook-cell:/c%3A/Users/harsh/OneDrive%20-%20pdpu.ac.in/HARSH/_STUDY%20MATERIAL/SEM%205/Advanced%20Python%20Programming/PRACTICE/IA-k.ipynb#X11sZmlsZQ%3D%3D?line=4'>5</a>\u001b[0m     json\u001b[39m.\u001b[39mdump(data, json_file)\n\u001b[0;32m      <a href='vscode-notebook-cell:/c%3A/Users/harsh/OneDrive%20-%20pdpu.ac.in/HARSH/_STUDY%20MATERIAL/SEM%205/Advanced%20Python%20Programming/PRACTICE/IA-k.ipynb#X11sZmlsZQ%3D%3D?line=5'>6</a>\u001b[0m \u001b[39mwith\u001b[39;00m \u001b[39mopen\u001b[39m(file_path, \u001b[39m\"\u001b[39m\u001b[39mr\u001b[39m\u001b[39m\"\u001b[39m) \u001b[39mas\u001b[39;00m json_file:\n\u001b[1;32m----> <a href='vscode-notebook-cell:/c%3A/Users/harsh/OneDrive%20-%20pdpu.ac.in/HARSH/_STUDY%20MATERIAL/SEM%205/Advanced%20Python%20Programming/PRACTICE/IA-k.ipynb#X11sZmlsZQ%3D%3D?line=6'>7</a>\u001b[0m     data \u001b[39m=\u001b[39m json\u001b[39m.\u001b[39;49mread(json_file)\n\u001b[0;32m      <a href='vscode-notebook-cell:/c%3A/Users/harsh/OneDrive%20-%20pdpu.ac.in/HARSH/_STUDY%20MATERIAL/SEM%205/Advanced%20Python%20Programming/PRACTICE/IA-k.ipynb#X11sZmlsZQ%3D%3D?line=7'>8</a>\u001b[0m \u001b[39mprint\u001b[39m(data[\u001b[39m\"\u001b[39m\u001b[39mperson\u001b[39m\u001b[39m\"\u001b[39m])\n",
      "\u001b[1;31mAttributeError\u001b[0m: module 'json' has no attribute 'read'"
     ]
    }
   ],
   "source": [
    "import json\n",
    "data = {\"person\": {\"name\": \"John Doe\", \"age\": 30}, \"city\": \"New York\"}\n",
    "file_path = \"test.json\"\n",
    "with open(file_path, \"w\") as json_file:\n",
    "    json.dump(data, json_file)\n",
    "with open(file_path, \"r\") as json_file:\n",
    "    data = json.read(json_file)\n",
    "print(data[\"person\"])"
   ]
  },
  {
   "cell_type": "code",
   "execution_count": 11,
   "metadata": {},
   "outputs": [
    {
     "name": "stderr",
     "output_type": "stream",
     "text": [
      "2023-09-19 22:37:07,266 - IA Example - ERROR - Error Message\n",
      "2023-09-19 22:37:07,269 - IA Example - CRITICAL - Critical Message\n"
     ]
    }
   ],
   "source": [
    "import logging\n",
    "logger = logging.getLogger(\"IA Example\")\n",
    "logger.setLevel(logging.ERROR)\n",
    "ch = logging.StreamHandler()\n",
    "ch.setLevel(logging.DEBUG)\n",
    "formatter = logging.Formatter(\"%(asctime)s - %(name)s - %(levelname)s - %(message)s\")\n",
    "ch.setFormatter(formatter)\n",
    "logger.addHandler(ch)\n",
    "logger.debug(\"Debug Message\")\n",
    "logger.info(\"Info Message\")\n",
    "logger.warning(\"Warning Message\")\n",
    "logger.error(\"Error Message\")\n",
    "logger.critical(\"Critical Message\")"
   ]
  },
  {
   "cell_type": "code",
   "execution_count": 13,
   "metadata": {},
   "outputs": [
    {
     "name": "stdout",
     "output_type": "stream",
     "text": [
      "Value Error\n"
     ]
    }
   ],
   "source": [
    "from datetime import datetime\n",
    "try:\n",
    "    date_str = \"2023-02-29\"\n",
    "    date_obj = datetime.strptime(date_str, \"%Y-%m-%d\")\n",
    "except ValueError:\n",
    "    print(\"Value Error\")\n",
    "except TypeError:\n",
    "    print(\"Type Error\")"
   ]
  },
  {
   "cell_type": "code",
   "execution_count": 15,
   "metadata": {},
   "outputs": [
    {
     "name": "stdout",
     "output_type": "stream",
     "text": [
      "{'Name': 'John', 'Maths': '85', 'Science': '78', 'English': '92'}\n",
      "{'Name': 'Alice', 'Maths': '89', 'Science': '90', 'English': '93'}\n",
      "{'Name': 'Bob', 'Maths': '76', 'Science': '90', 'English': '85'}\n",
      "{'Name': 'Eve', 'Maths': '88', 'Science': '78', 'English': '88'}\n",
      "81.5\n"
     ]
    }
   ],
   "source": [
    "import csv\n",
    "input_file = 'score.csv'\n",
    "student_grades = {}\n",
    "with open(input_file, 'r') as csvfile:\n",
    "    reader = csv.DictReader(csvfile)\n",
    "    for row in reader:\n",
    "        print(row)\n",
    "        name = row['Name']\n",
    "        math_score = int (row['Maths'])\n",
    "        science_score = int(row['Science'])\n",
    "        english_score = int(row['English'])\n",
    "        score = [math_score, science_score]\n",
    "        average_score = sum(score) / len(score)\n",
    "        student_grades [name] = average_score\n",
    "print(student_grades ['John'])"
   ]
  },
  {
   "cell_type": "code",
   "execution_count": 17,
   "metadata": {},
   "outputs": [
    {
     "name": "stdout",
     "output_type": "stream",
     "text": [
      "[1, 2, 15, 6, 7]\n"
     ]
    }
   ],
   "source": [
    "A = [1, 10, 2, 15, 20, 6, 4, 7]\n",
    "i=0\n",
    "while i<len(A):\n",
    "    if A[i]%2==0:\n",
    "        A.remove(A[i])\n",
    "    i=i+1\n",
    "print(A)"
   ]
  },
  {
   "cell_type": "code",
   "execution_count": null,
   "metadata": {},
   "outputs": [],
   "source": []
  }
 ],
 "metadata": {
  "kernelspec": {
   "display_name": "Python 3",
   "language": "python",
   "name": "python3"
  },
  "language_info": {
   "codemirror_mode": {
    "name": "ipython",
    "version": 3
   },
   "file_extension": ".py",
   "mimetype": "text/x-python",
   "name": "python",
   "nbconvert_exporter": "python",
   "pygments_lexer": "ipython3",
   "version": "3.10.6"
  },
  "orig_nbformat": 4
 },
 "nbformat": 4,
 "nbformat_minor": 2
}
