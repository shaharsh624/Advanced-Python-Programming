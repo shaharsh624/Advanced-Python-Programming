{
 "cells": [
  {
   "cell_type": "code",
   "execution_count": 2,
   "metadata": {},
   "outputs": [
    {
     "name": "stdout",
     "output_type": "stream",
     "text": [
      "-10\n"
     ]
    }
   ],
   "source": [
    "x = (~5)-4\n",
    "print(x)"
   ]
  },
  {
   "cell_type": "code",
   "execution_count": 3,
   "metadata": {},
   "outputs": [
    {
     "data": {
      "text/plain": [
       "True"
      ]
     },
     "execution_count": 3,
     "metadata": {},
     "output_type": "execute_result"
    }
   ],
   "source": [
    "\n",
    "bool(\"False\")"
   ]
  },
  {
   "cell_type": "code",
   "execution_count": 4,
   "metadata": {},
   "outputs": [
    {
     "ename": "ZeroDivisionError",
     "evalue": "division by zero",
     "output_type": "error",
     "traceback": [
      "\u001b[1;31m---------------------------------------------------------------------------\u001b[0m",
      "\u001b[1;31mZeroDivisionError\u001b[0m                         Traceback (most recent call last)",
      "\u001b[1;32mc:\\Users\\harsh\\OneDrive - pdpu.ac.in\\HARSH\\_STUDY MATERIAL\\SEM 5\\Advanced Python Programming\\PRACTICE\\Basic Python.ipynb Cell 3\u001b[0m line \u001b[0;36m2\n\u001b[0;32m      <a href='vscode-notebook-cell:/c%3A/Users/harsh/OneDrive%20-%20pdpu.ac.in/HARSH/_STUDY%20MATERIAL/SEM%205/Advanced%20Python%20Programming/PRACTICE/Basic%20Python.ipynb#W2sZmlsZQ%3D%3D?line=0'>1</a>\u001b[0m a\u001b[39m=\u001b[39m\u001b[39m10\u001b[39m\n\u001b[1;32m----> <a href='vscode-notebook-cell:/c%3A/Users/harsh/OneDrive%20-%20pdpu.ac.in/HARSH/_STUDY%20MATERIAL/SEM%205/Advanced%20Python%20Programming/PRACTICE/Basic%20Python.ipynb#W2sZmlsZQ%3D%3D?line=1'>2</a>\u001b[0m a\u001b[39m/\u001b[39m\u001b[39m=\u001b[39m\u001b[39m5\u001b[39m\u001b[39m!=\u001b[39m\u001b[39m5\u001b[39m \u001b[39mand\u001b[39;00m \u001b[39m6\u001b[39m\u001b[39m>\u001b[39m\u001b[39m=\u001b[39m\u001b[39m100\u001b[39m\u001b[39m>>\u001b[39m\u001b[39m2\u001b[39m\n\u001b[0;32m      <a href='vscode-notebook-cell:/c%3A/Users/harsh/OneDrive%20-%20pdpu.ac.in/HARSH/_STUDY%20MATERIAL/SEM%205/Advanced%20Python%20Programming/PRACTICE/Basic%20Python.ipynb#W2sZmlsZQ%3D%3D?line=2'>3</a>\u001b[0m \u001b[39mprint\u001b[39m(a)\n",
      "\u001b[1;31mZeroDivisionError\u001b[0m: division by zero"
     ]
    }
   ],
   "source": [
    "a=10\n",
    "a/=5!=5 and 6>=100>>2\n",
    "print(a)"
   ]
  },
  {
   "cell_type": "code",
   "execution_count": 6,
   "metadata": {},
   "outputs": [
    {
     "name": "stdout",
     "output_type": "stream",
     "text": [
      "[4, 5, 6]\n",
      "3\n"
     ]
    }
   ],
   "source": [
    "M = [[1,2,3], [4,5,6], [7,8,9]]\n",
    "print(M[1])\n",
    "print(len(M))"
   ]
  },
  {
   "cell_type": "code",
   "execution_count": 10,
   "metadata": {},
   "outputs": [
    {
     "ename": "TypeError",
     "evalue": "'list' object is not callable",
     "output_type": "error",
     "traceback": [
      "\u001b[1;31m---------------------------------------------------------------------------\u001b[0m",
      "\u001b[1;31mTypeError\u001b[0m                                 Traceback (most recent call last)",
      "\u001b[1;32mc:\\Users\\harsh\\OneDrive - pdpu.ac.in\\HARSH\\_STUDY MATERIAL\\SEM 5\\Advanced Python Programming\\PRACTICE\\Basic Python.ipynb Cell 5\u001b[0m line \u001b[0;36m2\n\u001b[0;32m      <a href='vscode-notebook-cell:/c%3A/Users/harsh/OneDrive%20-%20pdpu.ac.in/HARSH/_STUDY%20MATERIAL/SEM%205/Advanced%20Python%20Programming/PRACTICE/Basic%20Python.ipynb#W4sZmlsZQ%3D%3D?line=0'>1</a>\u001b[0m M \u001b[39m=\u001b[39m [[\u001b[39m1\u001b[39m,\u001b[39m2\u001b[39m,\u001b[39m3\u001b[39m], [\u001b[39m4\u001b[39m,\u001b[39m5\u001b[39m,\u001b[39m6\u001b[39m], [\u001b[39m7\u001b[39m,\u001b[39m8\u001b[39m,\u001b[39m9\u001b[39m]]\n\u001b[1;32m----> <a href='vscode-notebook-cell:/c%3A/Users/harsh/OneDrive%20-%20pdpu.ac.in/HARSH/_STUDY%20MATERIAL/SEM%205/Advanced%20Python%20Programming/PRACTICE/Basic%20Python.ipynb#W4sZmlsZQ%3D%3D?line=1'>2</a>\u001b[0m N\u001b[39m=\u001b[39mM()\n\u001b[0;32m      <a href='vscode-notebook-cell:/c%3A/Users/harsh/OneDrive%20-%20pdpu.ac.in/HARSH/_STUDY%20MATERIAL/SEM%205/Advanced%20Python%20Programming/PRACTICE/Basic%20Python.ipynb#W4sZmlsZQ%3D%3D?line=2'>3</a>\u001b[0m N[\u001b[39m2\u001b[39m]\u001b[39m=\u001b[39m\u001b[39m20\u001b[39m\n\u001b[0;32m      <a href='vscode-notebook-cell:/c%3A/Users/harsh/OneDrive%20-%20pdpu.ac.in/HARSH/_STUDY%20MATERIAL/SEM%205/Advanced%20Python%20Programming/PRACTICE/Basic%20Python.ipynb#W4sZmlsZQ%3D%3D?line=3'>4</a>\u001b[0m \u001b[39mprint\u001b[39m(M)\n",
      "\u001b[1;31mTypeError\u001b[0m: 'list' object is not callable"
     ]
    }
   ],
   "source": [
    "M = [[1,2,3], [4,5,6], [7,8,9]]\n",
    "N=M\n",
    "N[2]=20\n",
    "print(M)\n",
    "print(N)"
   ]
  },
  {
   "cell_type": "code",
   "execution_count": 11,
   "metadata": {},
   "outputs": [
    {
     "name": "stdout",
     "output_type": "stream",
     "text": [
      "[[1, 2, 3], [4, 5, 6], [7, 8, 9]]\n",
      "[[1, 2, 3], [4, 5, 6], 20]\n"
     ]
    }
   ],
   "source": [
    "M = [[1,2,3], [4,5,6], [7,8,9]]\n",
    "N=M[:]\n",
    "N[2]=20\n",
    "print(M)\n",
    "print(N)"
   ]
  },
  {
   "cell_type": "code",
   "execution_count": 13,
   "metadata": {},
   "outputs": [
    {
     "name": "stdout",
     "output_type": "stream",
     "text": [
      "[20, [3, 4, 5]]\n"
     ]
    }
   ],
   "source": [
    "y=[20]\n",
    "y.append([3,4,5])\n",
    "print(y)"
   ]
  },
  {
   "cell_type": "code",
   "execution_count": 14,
   "metadata": {},
   "outputs": [
    {
     "name": "stdout",
     "output_type": "stream",
     "text": [
      "[20, 3, 4, 5]\n"
     ]
    }
   ],
   "source": [
    "y=[20]\n",
    "y.extend([3,4,5])\n",
    "print(y)"
   ]
  },
  {
   "cell_type": "code",
   "execution_count": 15,
   "metadata": {},
   "outputs": [
    {
     "name": "stdout",
     "output_type": "stream",
     "text": [
      "A\n",
      "B\n"
     ]
    }
   ],
   "source": [
    "x=10\n",
    "if x==10:\n",
    "    print(\"A\")\n",
    "if x<=20:\n",
    "    print(\"B\")\n",
    "else:\n",
    "    print(\"C\")"
   ]
  },
  {
   "cell_type": "code",
   "execution_count": 16,
   "metadata": {},
   "outputs": [
    {
     "name": "stdout",
     "output_type": "stream",
     "text": [
      "A\n"
     ]
    }
   ],
   "source": [
    "x=10\n",
    "if 2:\n",
    "    print(\"A\")\n",
    "elif 20:\n",
    "    print(\"B\")\n",
    "else:\n",
    "    print(\"C\")"
   ]
  },
  {
   "cell_type": "code",
   "execution_count": 17,
   "metadata": {},
   "outputs": [
    {
     "name": "stdout",
     "output_type": "stream",
     "text": [
      "8\n"
     ]
    }
   ],
   "source": [
    "x=20\n",
    "for x in (2,3,5,7):\n",
    "    x=x+1\n",
    "print(x)"
   ]
  },
  {
   "cell_type": "code",
   "execution_count": 18,
   "metadata": {},
   "outputs": [
    {
     "name": "stdout",
     "output_type": "stream",
     "text": [
      "A\n",
      "B\n",
      "D\n"
     ]
    }
   ],
   "source": [
    "if 10:\n",
    "    print(\"A\")\n",
    "if -10:\n",
    "    print(\"B\")\n",
    "if 0:\n",
    "    print(\"C\")\n",
    "else:\n",
    "    print(\"D\")"
   ]
  },
  {
   "cell_type": "code",
   "execution_count": 19,
   "metadata": {},
   "outputs": [
    {
     "ename": "TypeError",
     "evalue": "'str' object does not support item assignment",
     "output_type": "error",
     "traceback": [
      "\u001b[1;31m---------------------------------------------------------------------------\u001b[0m",
      "\u001b[1;31mTypeError\u001b[0m                                 Traceback (most recent call last)",
      "\u001b[1;32mc:\\Users\\harsh\\OneDrive - pdpu.ac.in\\HARSH\\_STUDY MATERIAL\\SEM 5\\Advanced Python Programming\\PRACTICE\\Basic Python.ipynb Cell 13\u001b[0m line \u001b[0;36m2\n\u001b[0;32m      <a href='vscode-notebook-cell:/c%3A/Users/harsh/OneDrive%20-%20pdpu.ac.in/HARSH/_STUDY%20MATERIAL/SEM%205/Advanced%20Python%20Programming/PRACTICE/Basic%20Python.ipynb#X16sZmlsZQ%3D%3D?line=0'>1</a>\u001b[0m name \u001b[39m=\u001b[39m \u001b[39m\"\u001b[39m\u001b[39msnow storm\u001b[39m\u001b[39m\"\u001b[39m\n\u001b[1;32m----> <a href='vscode-notebook-cell:/c%3A/Users/harsh/OneDrive%20-%20pdpu.ac.in/HARSH/_STUDY%20MATERIAL/SEM%205/Advanced%20Python%20Programming/PRACTICE/Basic%20Python.ipynb#X16sZmlsZQ%3D%3D?line=1'>2</a>\u001b[0m name[\u001b[39m5\u001b[39;49m] \u001b[39m=\u001b[39m \u001b[39m\"\u001b[39m\u001b[39mX\u001b[39m\u001b[39m\"\u001b[39m\n\u001b[0;32m      <a href='vscode-notebook-cell:/c%3A/Users/harsh/OneDrive%20-%20pdpu.ac.in/HARSH/_STUDY%20MATERIAL/SEM%205/Advanced%20Python%20Programming/PRACTICE/Basic%20Python.ipynb#X16sZmlsZQ%3D%3D?line=2'>3</a>\u001b[0m \u001b[39mprint\u001b[39m(name)\n",
      "\u001b[1;31mTypeError\u001b[0m: 'str' object does not support item assignment"
     ]
    }
   ],
   "source": [
    "name = \"snow storm\"\n",
    "name[5] = \"X\"\n",
    "print(name)"
   ]
  },
  {
   "cell_type": "code",
   "execution_count": 20,
   "metadata": {},
   "outputs": [
    {
     "name": "stdout",
     "output_type": "stream",
     "text": [
      "10\n"
     ]
    }
   ],
   "source": [
    "count = 0\n",
    "for i in range(5):\n",
    "    for j in range(i):\n",
    "        count+=1\n",
    "print(count)\n"
   ]
  },
  {
   "cell_type": "code",
   "execution_count": 21,
   "metadata": {},
   "outputs": [
    {
     "name": "stdout",
     "output_type": "stream",
     "text": [
      "C\n"
     ]
    }
   ],
   "source": [
    "x = \"ABCD\"\n",
    "i=0\n",
    "while(i<len(x)):\n",
    "    y=x[i]\n",
    "    i=i+2\n",
    "print(y)"
   ]
  },
  {
   "cell_type": "code",
   "execution_count": 27,
   "metadata": {},
   "outputs": [
    {
     "name": "stdout",
     "output_type": "stream",
     "text": [
      "[4, 9, 1]\n",
      "True\n",
      "[9, 1]\n",
      "True\n",
      "[]\n",
      "[]\n",
      "True\n"
     ]
    }
   ],
   "source": [
    "my_list = [3,4,9,1,2,6,8]\n",
    "print(my_list[-6:4])\n",
    "print(my_list[-6:4]==my_list[1:4])\n",
    "print(my_list[-5:4])\n",
    "print(my_list[-5:4]==my_list[2:4])\n",
    "print(my_list[-1:3])\n",
    "print(my_list[-1:4])\n",
    "print(my_list[-1:3]==my_list[-1:4])"
   ]
  },
  {
   "cell_type": "code",
   "execution_count": 28,
   "metadata": {},
   "outputs": [
    {
     "name": "stdout",
     "output_type": "stream",
     "text": [
      "[1, 7, 13]\n"
     ]
    }
   ],
   "source": [
    "A=[1,10,8,7,12,14,13,18,22]\n",
    "i=0\n",
    "while i<len(A):\n",
    "    if A[i]%2==0:\n",
    "        A.remove(A[i])\n",
    "    else:\n",
    "        i=i+1\n",
    "print(A)"
   ]
  },
  {
   "cell_type": "code",
   "execution_count": 29,
   "metadata": {},
   "outputs": [
    {
     "name": "stdout",
     "output_type": "stream",
     "text": [
      "[0, 2, 4, 6, 8, 10, 12, 14, 16, 18]\n"
     ]
    }
   ],
   "source": [
    "a = [i for i in range(20) if (i%2==0)]\n",
    "print(a)"
   ]
  },
  {
   "cell_type": "code",
   "execution_count": null,
   "metadata": {},
   "outputs": [],
   "source": []
  }
 ],
 "metadata": {
  "kernelspec": {
   "display_name": "Python 3",
   "language": "python",
   "name": "python3"
  },
  "language_info": {
   "codemirror_mode": {
    "name": "ipython",
    "version": 3
   },
   "file_extension": ".py",
   "mimetype": "text/x-python",
   "name": "python",
   "nbconvert_exporter": "python",
   "pygments_lexer": "ipython3",
   "version": "3.10.6"
  },
  "orig_nbformat": 4
 },
 "nbformat": 4,
 "nbformat_minor": 2
}
