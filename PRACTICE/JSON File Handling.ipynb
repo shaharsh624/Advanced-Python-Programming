{
 "cells": [
  {
   "cell_type": "code",
   "execution_count": 8,
   "metadata": {},
   "outputs": [
    {
     "name": "stdout",
     "output_type": "stream",
     "text": [
      "{'person': {'name': 'John Doe', 'age': 30}, 'city': 'New York'}\n",
      "<class 'dict'>\n"
     ]
    }
   ],
   "source": [
    "import json\n",
    "file_path = \"test.json\"\n",
    "\n",
    "with open(file_path, \"r\") as f:\n",
    "    data = json.load(f)\n",
    "print(data)\n",
    "print(type(data))"
   ]
  },
  {
   "cell_type": "code",
   "execution_count": 10,
   "metadata": {},
   "outputs": [
    {
     "name": "stdout",
     "output_type": "stream",
     "text": [
      "<class 'dict'>\n"
     ]
    }
   ],
   "source": [
    "import json\n",
    "file_path = \"output.json\"\n",
    "data = {'person': {'name': 'John Doe', 'age': 30}, 'city': 'New York'}\n",
    "print(type(data))\n",
    "\n",
    "with open(file_path, \"w+\") as f:\n",
    "    json.dump(data, f, indent=2)\n",
    "    # print(json.load(f))"
   ]
  },
  {
   "cell_type": "code",
   "execution_count": 15,
   "metadata": {},
   "outputs": [],
   "source": [
    "# Task CSV 3\n",
    "\n",
    "import os\n",
    "import csv\n",
    "\n",
    "#Getting all the csv files stored in the Sales Data folder\n",
    "path_files = []\n",
    "for root, dirs, files in os.walk(\"Sales Data\"):\n",
    "    for file in files:\n",
    "        if \".csv\" in file:\n",
    "            file_path = os.path.join(root, file)\n",
    "            path_files.append(file_path)"
   ]
  },
  {
   "cell_type": "code",
   "execution_count": 16,
   "metadata": {},
   "outputs": [],
   "source": [
    "#Reading all the files in the list and appending their data in a list\n",
    "n = 0\n",
    "source_data = []\n",
    "for x in path_files:\n",
    "    if \"Product_Names.csv\" not in x:\n",
    "        n += 1\n",
    "        with open(x, \"r\", newline='') as fr:\n",
    "            data = csv.reader(fr)\n",
    "            for row in data:\n",
    "                if \"Product ID\" not in row:\n",
    "                    source_data.append(row)"
   ]
  },
  {
   "cell_type": "code",
   "execution_count": 17,
   "metadata": {},
   "outputs": [],
   "source": [
    "#Writing all the data of the list in the file\n",
    "with open(\"Sales Data/All Sales Data.csv\", \"a\", newline='') as fw:\n",
    "        csv_writer = csv.writer(fw)\n",
    "        csv_writer.writerow([\"Date\",\"Store ID\",\"Product ID\",\"Quantity Sold\"])\n",
    "        csv_writer.writerows(source_data)"
   ]
  },
  {
   "cell_type": "code",
   "execution_count": 18,
   "metadata": {},
   "outputs": [
    {
     "ename": "ValueError",
     "evalue": "invalid literal for int() with base 10: 'Quantity Sold'",
     "output_type": "error",
     "traceback": [
      "\u001b[1;31m---------------------------------------------------------------------------\u001b[0m",
      "\u001b[1;31mValueError\u001b[0m                                Traceback (most recent call last)",
      "\u001b[1;32mc:\\Users\\harsh\\OneDrive - pdpu.ac.in\\HARSH\\_STUDY MATERIAL\\SEM 5\\Advanced Python Programming\\PRACTICE\\JSON File Handling.ipynb Cell 6\u001b[0m line \u001b[0;36m7\n\u001b[0;32m      <a href='vscode-notebook-cell:/c%3A/Users/harsh/OneDrive%20-%20pdpu.ac.in/HARSH/_STUDY%20MATERIAL/SEM%205/Advanced%20Python%20Programming/PRACTICE/JSON%20File%20Handling.ipynb#W5sZmlsZQ%3D%3D?line=4'>5</a>\u001b[0m \u001b[39mfor\u001b[39;00m row \u001b[39min\u001b[39;00m data:\n\u001b[0;32m      <a href='vscode-notebook-cell:/c%3A/Users/harsh/OneDrive%20-%20pdpu.ac.in/HARSH/_STUDY%20MATERIAL/SEM%205/Advanced%20Python%20Programming/PRACTICE/JSON%20File%20Handling.ipynb#W5sZmlsZQ%3D%3D?line=5'>6</a>\u001b[0m     product \u001b[39m=\u001b[39m row[\u001b[39m\"\u001b[39m\u001b[39mProduct ID\u001b[39m\u001b[39m\"\u001b[39m]\n\u001b[1;32m----> <a href='vscode-notebook-cell:/c%3A/Users/harsh/OneDrive%20-%20pdpu.ac.in/HARSH/_STUDY%20MATERIAL/SEM%205/Advanced%20Python%20Programming/PRACTICE/JSON%20File%20Handling.ipynb#W5sZmlsZQ%3D%3D?line=6'>7</a>\u001b[0m     sales \u001b[39m=\u001b[39m \u001b[39mint\u001b[39;49m(row[\u001b[39m\"\u001b[39;49m\u001b[39mQuantity Sold\u001b[39;49m\u001b[39m\"\u001b[39;49m])\n\u001b[0;32m      <a href='vscode-notebook-cell:/c%3A/Users/harsh/OneDrive%20-%20pdpu.ac.in/HARSH/_STUDY%20MATERIAL/SEM%205/Advanced%20Python%20Programming/PRACTICE/JSON%20File%20Handling.ipynb#W5sZmlsZQ%3D%3D?line=7'>8</a>\u001b[0m     \u001b[39mif\u001b[39;00m product \u001b[39mnot\u001b[39;00m \u001b[39min\u001b[39;00m total_sales:\n\u001b[0;32m      <a href='vscode-notebook-cell:/c%3A/Users/harsh/OneDrive%20-%20pdpu.ac.in/HARSH/_STUDY%20MATERIAL/SEM%205/Advanced%20Python%20Programming/PRACTICE/JSON%20File%20Handling.ipynb#W5sZmlsZQ%3D%3D?line=8'>9</a>\u001b[0m         total_sales[product] \u001b[39m=\u001b[39m sales\n",
      "\u001b[1;31mValueError\u001b[0m: invalid literal for int() with base 10: 'Quantity Sold'"
     ]
    }
   ],
   "source": [
    "#Determing the total sales of all products\n",
    "total_sales = {}\n",
    "with open(\"Sales Data/All Sales Data.csv\", \"r\", newline='') as fr:\n",
    "    data = csv.DictReader(fr)\n",
    "    for row in data:\n",
    "        product = row[\"Product ID\"]\n",
    "        sales = int(row[\"Quantity Sold\"])\n",
    "        if product not in total_sales:\n",
    "            total_sales[product] = sales\n",
    "        else:\n",
    "            total_sales[product] += sales\n",
    "print(total_sales)"
   ]
  },
  {
   "cell_type": "code",
   "execution_count": null,
   "metadata": {},
   "outputs": [],
   "source": [
    "#Determing the top 5 products according to the sales\n",
    "sorted_sales = sorted(total_sales.items(), key = lambda item: item[1], reverse = True)\n",
    "print(sorted_sales[:5])"
   ]
  },
  {
   "cell_type": "code",
   "execution_count": null,
   "metadata": {},
   "outputs": [],
   "source": [
    "#Making a dictionary of productid and product name\n",
    "product_matching = {}\n",
    "with open(\"Sales Data/Product_Names.csv\", \"r\", newline='') as frr:\n",
    "            data_name = csv.DictReader(frr)\n",
    "            for entry in data_name:\n",
    "                product_ID = entry[\"Product ID\"]\n",
    "                product_name = entry[\"Product Name\"]\n",
    "                product_matching[product_ID] = product_name"
   ]
  },
  {
   "cell_type": "code",
   "execution_count": null,
   "metadata": {},
   "outputs": [],
   "source": [
    "#Making list for final output and printing it\n",
    "summary = [[key, product_matching[key], value, value / n] for key, value in total_sales.items()]   \n",
    "with open(\"Sales Data/Sales_Summary.csv\", \"w\", newline='') as fw:\n",
    "    final = csv.writer(fw)\n",
    "    final.writerow([\"Product ID\", \"Product Name\", \"Total Sales\", \"Average Sales\"])\n",
    "    for row in summary:\n",
    "          final.writerow(row)"
   ]
  }
 ],
 "metadata": {
  "kernelspec": {
   "display_name": "Python 3",
   "language": "python",
   "name": "python3"
  },
  "language_info": {
   "codemirror_mode": {
    "name": "ipython",
    "version": 3
   },
   "file_extension": ".py",
   "mimetype": "text/x-python",
   "name": "python",
   "nbconvert_exporter": "python",
   "pygments_lexer": "ipython3",
   "version": "3.10.6"
  },
  "orig_nbformat": 4
 },
 "nbformat": 4,
 "nbformat_minor": 2
}
