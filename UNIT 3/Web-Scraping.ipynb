{
  "cells": [
    {
      "cell_type": "markdown",
      "metadata": {
        "id": "bdL0WHxMcQJh"
      },
      "source": [
        "Example 1: Basic HTML Parsing"
      ]
    },
    {
      "cell_type": "code",
      "execution_count": 1,
      "metadata": {
        "colab": {
          "base_uri": "https://localhost:8080/"
        },
        "id": "R3jSlbvWbSXT",
        "outputId": "db8e0dd0-7cf1-4b8a-a2a0-5fbf8141a626"
      },
      "outputs": [
        {
          "name": "stdout",
          "output_type": "stream",
          "text": [
            "Title: <title>My Web Page</title>\n",
            "Paragraph: Hello, World!\n"
          ]
        }
      ],
      "source": [
        "from bs4 import BeautifulSoup\n",
        "\n",
        "# Sample HTML content\n",
        "html_content = \"<html><head><title>My Web Page</title></head><body><p>Hello, World!</p></body></html>\"\n",
        "\n",
        "# Parse the HTML\n",
        "soup = BeautifulSoup(html_content, \"html.parser\")\n",
        "\n",
        "# Print the title tag\n",
        "print(\"Title:\", soup.title)\n",
        "\n",
        "# Print the paragraph text\n",
        "print(\"Paragraph:\", soup.p.text)\n"
      ]
    },
    {
      "cell_type": "markdown",
      "metadata": {
        "id": "BZeQVlTOcafB"
      },
      "source": [
        "Example 2: Finding Elements by Tag"
      ]
    },
    {
      "cell_type": "code",
      "execution_count": 2,
      "metadata": {
        "colab": {
          "base_uri": "https://localhost:8080/"
        },
        "id": "F8ekvJCMcaGq",
        "outputId": "0a3ff9ca-c91d-411e-ab61-3cf2ed0828fd"
      },
      "outputs": [
        {
          "name": "stdout",
          "output_type": "stream",
          "text": [
            "Item 1\n",
            "Item 2\n",
            "Item 3\n"
          ]
        }
      ],
      "source": [
        "from bs4 import BeautifulSoup\n",
        "\n",
        "# Sample HTML content\n",
        "html_content = \"<ul><li>Item 1</li><li>Item 2</li><li>Item 3</li></ul>\"\n",
        "\n",
        "# Parse the HTML\n",
        "soup = BeautifulSoup(html_content, \"html.parser\")\n",
        "\n",
        "# Find all list items\n",
        "items = soup.find_all(\"li\")\n",
        "\n",
        "# Print each item\n",
        "for item in items:\n",
        "    print(item.text)\n"
      ]
    },
    {
      "cell_type": "markdown",
      "metadata": {
        "id": "T1s5eoSUcb9T"
      },
      "source": [
        "Example 3: Finding Elements by Class"
      ]
    },
    {
      "cell_type": "code",
      "execution_count": 3,
      "metadata": {
        "colab": {
          "base_uri": "https://localhost:8080/"
        },
        "id": "VmTRW6mJccW1",
        "outputId": "4fed6520-6443-4026-a5dc-b247ee2bb3d3"
      },
      "outputs": [
        {
          "name": "stdout",
          "output_type": "stream",
          "text": [
            "Hello, World!\n"
          ]
        }
      ],
      "source": [
        "from bs4 import BeautifulSoup\n",
        "\n",
        "# Sample HTML content\n",
        "html_content = \"<div class='container'><p class='text'>Hello, World!</p></div>\"\n",
        "\n",
        "# Parse the HTML\n",
        "soup = BeautifulSoup(html_content, \"html.parser\")\n",
        "\n",
        "# Find the paragraph with class 'text'\n",
        "paragraph = soup.find(\"p\", class_=\"text\")\n",
        "\n",
        "# Print the paragraph text\n",
        "print(paragraph.text)\n"
      ]
    },
    {
      "cell_type": "markdown",
      "metadata": {
        "id": "6RWax_yycckD"
      },
      "source": [
        "Example 4: Finding Elements by ID"
      ]
    },
    {
      "cell_type": "code",
      "execution_count": 4,
      "metadata": {
        "colab": {
          "base_uri": "https://localhost:8080/"
        },
        "id": "q_eLvmXTccv2",
        "outputId": "faf1061e-b92d-4a96-b301-52e6b8c4c1b5"
      },
      "outputs": [
        {
          "name": "stdout",
          "output_type": "stream",
          "text": [
            "Hello, World!\n"
          ]
        }
      ],
      "source": [
        "from bs4 import BeautifulSoup\n",
        "\n",
        "# Sample HTML content\n",
        "html_content = \"<div id='content'><p>Hello, World!</p></div>\"\n",
        "\n",
        "# Parse the HTML\n",
        "soup = BeautifulSoup(html_content, \"html.parser\")\n",
        "\n",
        "# Find the div with id 'content'\n",
        "div = soup.find(\"div\", id=\"content\")\n",
        "\n",
        "# Print the paragraph text\n",
        "print(div.p.text)\n"
      ]
    },
    {
      "cell_type": "markdown",
      "metadata": {
        "id": "CdxF4e6dcdu1"
      },
      "source": [
        "Example 5: Navigating the HTML Tree"
      ]
    },
    {
      "cell_type": "code",
      "execution_count": 5,
      "metadata": {
        "colab": {
          "base_uri": "https://localhost:8080/"
        },
        "id": "eYjhTN99cd6a",
        "outputId": "801b0f42-2ee0-430e-e44e-aac15c895a32"
      },
      "outputs": [
        {
          "name": "stdout",
          "output_type": "stream",
          "text": [
            "Paragraph 1\n",
            "Paragraph 2\n"
          ]
        }
      ],
      "source": [
        "from bs4 import BeautifulSoup\n",
        "\n",
        "# Sample HTML content\n",
        "html_content = \"<div><p>Paragraph 1</p><p>Paragraph 2</p></div>\"\n",
        "\n",
        "# Parse the HTML\n",
        "soup = BeautifulSoup(html_content, \"html.parser\")\n",
        "\n",
        "# Navigate the HTML tree\n",
        "div = soup.div\n",
        "for p in div.find_all(\"p\"):\n",
        "    print(p.text)\n"
      ]
    },
    {
      "cell_type": "markdown",
      "metadata": {
        "id": "YprhsNVBceEb"
      },
      "source": [
        "Example 6: Extracting Attributes"
      ]
    },
    {
      "cell_type": "code",
      "execution_count": 6,
      "metadata": {
        "colab": {
          "base_uri": "https://localhost:8080/"
        },
        "id": "wdN6qvW0ceQL",
        "outputId": "f09ca716-0316-451a-df97-e412341739ce"
      },
      "outputs": [
        {
          "name": "stdout",
          "output_type": "stream",
          "text": [
            "Link Text: Visit Example\n",
            "Link URL: https://example.com\n"
          ]
        }
      ],
      "source": [
        "from bs4 import BeautifulSoup\n",
        "\n",
        "# Sample HTML content\n",
        "html_content = \"<a href='https://example.com'>Visit Example</a>\"\n",
        "\n",
        "# Parse the HTML\n",
        "soup = BeautifulSoup(html_content, \"html.parser\")\n",
        "\n",
        "# Extract the 'href' attribute\n",
        "link = soup.a\n",
        "print(\"Link Text:\", link.text)\n",
        "print(\"Link URL:\", link[\"href\"])\n"
      ]
    },
    {
      "cell_type": "markdown",
      "metadata": {
        "id": "wgExPHPGceZQ"
      },
      "source": [
        "\n",
        "\n",
        "```\n",
        "Example 7: Web Scraping a Real Website\n",
        "```\n",
        "\n"
      ]
    },
    {
      "cell_type": "code",
      "execution_count": 7,
      "metadata": {
        "colab": {
          "base_uri": "https://localhost:8080/"
        },
        "id": "GRU99Ub0cejC",
        "outputId": "418bd61b-c12c-4783-ccc0-39990abf9ec8"
      },
      "outputs": [
        {
          "name": "stdout",
          "output_type": "stream",
          "text": [
            "Page Title: Example Domain\n"
          ]
        }
      ],
      "source": [
        "import requests\n",
        "from bs4 import BeautifulSoup\n",
        "\n",
        "# Make an HTTP GET request\n",
        "url = \"https://example.com\"\n",
        "response = requests.get(url)\n",
        "\n",
        "# Parse the HTML\n",
        "soup = BeautifulSoup(response.text, \"html.parser\")\n",
        "\n",
        "# Extract and print the page title\n",
        "title = soup.title\n",
        "print(\"Page Title:\", title.text)\n"
      ]
    },
    {
      "cell_type": "markdown",
      "metadata": {
        "id": "cHpqv9MncesG"
      },
      "source": [
        "Example 8: Scraping Tables\n"
      ]
    },
    {
      "cell_type": "code",
      "execution_count": 8,
      "metadata": {
        "colab": {
          "base_uri": "https://localhost:8080/"
        },
        "id": "0OTbQlfEce2c",
        "outputId": "374d5939-fb2c-450a-a142-5dee4c6c415d"
      },
      "outputs": [
        {
          "name": "stdout",
          "output_type": "stream",
          "text": [
            "Name: Alice, Age: 25\n",
            "Name: Bob, Age: 30\n"
          ]
        }
      ],
      "source": [
        "from bs4 import BeautifulSoup\n",
        "\n",
        "# Sample HTML content with a table\n",
        "html_content = \"<table><tr><th>Name</th><th>Age</th></tr><tr><td>Alice</td><td>25</td></tr><tr><td>Bob</td><td>30</td></tr></table>\"\n",
        "\n",
        "# Parse the HTML\n",
        "soup = BeautifulSoup(html_content, \"html.parser\")\n",
        "\n",
        "# Find the table\n",
        "table = soup.find(\"table\")\n",
        "\n",
        "# Extract and print table data\n",
        "for row in table.find_all(\"tr\")[1:]:\n",
        "    columns = row.find_all(\"td\")\n",
        "    name = columns[0].text\n",
        "    age = columns[1].text\n",
        "    print(f\"Name: {name}, Age: {age}\")\n"
      ]
    },
    {
      "cell_type": "markdown",
      "metadata": {
        "id": "wlM7JkATce_A"
      },
      "source": [
        "Example 9: Scraping Images"
      ]
    },
    {
      "cell_type": "code",
      "execution_count": 9,
      "metadata": {
        "colab": {
          "base_uri": "https://localhost:8080/"
        },
        "id": "Ks6oD6JZcfIy",
        "outputId": "3b6ebef9-9e32-440d-a305-40d7416170ed"
      },
      "outputs": [
        {
          "name": "stdout",
          "output_type": "stream",
          "text": [
            "Image Source: https://example.com/image.jpg\n",
            "Image Alt Text: Sample Image\n"
          ]
        }
      ],
      "source": [
        "from bs4 import BeautifulSoup\n",
        "\n",
        "# Sample HTML content with an image\n",
        "html_content = \"<img src='https://example.com/image.jpg' alt='Sample Image'>\"\n",
        "\n",
        "# Parse the HTML\n",
        "soup = BeautifulSoup(html_content, \"html.parser\")\n",
        "\n",
        "# Find the image\n",
        "image = soup.img\n",
        "\n",
        "# Extract and print the image source and alt text\n",
        "src = image[\"src\"]\n",
        "alt = image[\"alt\"]\n",
        "print(\"Image Source:\", src)\n",
        "print(\"Image Alt Text:\", alt)\n"
      ]
    },
    {
      "cell_type": "markdown",
      "metadata": {
        "id": "QFau1u_ocfS0"
      },
      "source": [
        "Example 10: Web Scraping Pagination\n"
      ]
    },
    {
      "cell_type": "code",
      "execution_count": 20,
      "metadata": {
        "id": "3d9VnVf3cfcC"
      },
      "outputs": [
        {
          "name": "stdout",
          "output_type": "stream",
          "text": [
            "['https://www.moneycontrol.com//news/buzzing-stocks/jefferies-sees-367-10-bn-revenue-opportunity-for-jioairfiber_17253331.html', 'https://www.moneycontrol.com//news/buzzing-stocks/reliance-sheds-3-after-rs-4563-cr-block-deal-sends-nifty50-below-20000_17244331.html', 'https://www.moneycontrol.com//news/buzzing-stocks/reliance-sheds-3-after-rs-4563-cr-block-deal-sends-nifty50-below-20000_17244321.html', 'https://www.moneycontrol.com//news/business/reliance-industries-to-temporarily-shut-some-jamnagar-units-for-maintenance_17239991.html', 'https://www.moneycontrol.com//news/buzzing-stocks/kkr-hikes-stakereliance-retail-ventures-brokerages-estimate-fair-value-at-rs-1200_17236041.html', 'https://www.moneycontrol.com//news/buzzing-stocks/kkr-hikes-stakereliance-retail-ventures-brokerages-estimate-share-price-at-rs-1200_17236031.html', 'https://www.moneycontrol.com//news/buzzing-stocks/reliance-share-valuation-39favourable39-after-correction-jefferies-raises-price-to-rs-2950_17230361.html', 'https://www.moneycontrol.com//news/buzzing-stocks/jio-financial-services-gains-after-block-deal-49-million-shares-change-hands_17222301.html', 'https://www.moneycontrol.com//news/buzzing-stocks/brokerages-maintain-ril-stock-ratingtarget-price-turn-attention-to-earnings-after-agm_17221781.html', 'https://www.moneycontrol.com//news/buzzing-stocks/clsa-maintains-39buy39-ratingreliance-raises-target-price-to-rs-3060share_17220441.html', 'https://www.moneycontrol.com//news/business/reliance-agm-2023-highlights-jfs39-insurance-plans-to-next-genril-board-mukesh-ambani-shares-roadmap_17220411.html', 'https://www.moneycontrol.com//news/buzzing-stocks/reliance39s-46th-agm-today-a-look-at-how-shareholder-base-has-changedone-year_17220361.html', 'https://www.moneycontrol.com//news/buzzing-stocks/reliance39s-46th-agm-today-a-look-at-how-shareholder-base-has-changedone-year_17220351.html', 'https://www.moneycontrol.com//news/result-analysis/reliance-q1-results-newbies-coverweaknessthe-legacy-business_17125141.html', 'https://www.moneycontrol.com//news/results/reliance-consolidated-june-2023-net-sales-at-rs-20755900-crore-down-536-y-o-y_17124801.html', 'https://www.moneycontrol.com//news/results/relianceq1-a-look-at-profits-capex-booming-businesseschallenges_17124391.html', 'https://www.moneycontrol.com//news/results/reliance-standalone-june-2023-net-sales-at-rs-11713600-crore-down-206-y-o-y_17124311.html', 'https://www.moneycontrol.com//news/results/reliancetrack-to-create-jio-financial-services-ambani-sees-boost-to-inclusion_17124041.html', 'https://www.moneycontrol.com//news/results/reliance-jio-q1-net-profit-rises-12-yoy-to-rs-4863-crore_17123741.html', 'https://www.moneycontrol.com//news/result-poll/ril-q1-preview-net-profit-seen-at-rs-16995-crore_17122321.html']\n",
            "['https://www.moneycontrol.com//news/buzzing-stocks/adani-enterprises-sharesmarginally-after-subsidiary39s-wtg-gets-global-certification_17240081.html', 'https://www.moneycontrol.com//news/buzzing-stocks/adani-enterprises-sharesmarginally-after-subsidiary39s-wtg-gets-global-certification_17240071.html', 'https://www.moneycontrol.com//news/buzzing-stocks/adani-enterprises-trades-higherjoint-venture-for-green-hydrogen-marketingjapan_17238971.html', 'https://www.moneycontrol.com//news/business/adani-enterprises-arm-to-produce-52-mw-series-wind-turbine-generators_17238691.html', 'https://www.moneycontrol.com//news/results/adani-enterpris-consolidated-june-2023-net-sales-at-rs-2543845-crore-down-3772-y-o-y_17155001.html', 'https://www.moneycontrol.com//news/results/adani-enterpris-standalone-june-2023-net-sales-at-rs-1129312-crore-down-4442-y-o-y_17154591.html', 'https://www.moneycontrol.com//news/results/adani-enterprises-q1-results-net-profit44-at-rs-674-crore-revenue-down-38_17152431.html', 'https://www.moneycontrol.com//news/results/adani-enterpris-consolidated-march-2023-net-sales-at-rs-3134605-crore2606-y-o-y_16987741.html', 'https://www.moneycontrol.com//news/results/adani-enterpris-standalone-march-2023-net-sales-at-rs-1272742-crore445-y-o-y_16987451.html']\n",
            "['https://www.moneycontrol.com//news/buzzing-stocks/asian-paints-continues-to-declinerisecrude-oil-prices_17240571.html', 'https://www.moneycontrol.com//news/recommendations/buy-asian-paints-targetrs-3691-geojit_17186191.html', 'https://www.moneycontrol.com//news/recommendations/reduce-asian-paints-targetrs-3000-icici-securities_17141311.html', 'https://www.moneycontrol.com//news/recommendations/neutral-asian-paints-targetrs-3120-motilal-oswal_17138451.html', 'https://www.moneycontrol.com//news/recommendations/hold-asian-paints-targetrs-3675-sharekhan_17138151.html', 'https://www.moneycontrol.com//news/recommendations/buy-asian-paints-targetrs-3939-religare-retail-research_17136421.html', 'https://www.moneycontrol.com//news/recommendations/hold-asian-paints-targetrs-3527-prabhudas-lilladher_17136381.html', 'https://www.moneycontrol.com//news/results/asian-paints-consolidated-june-2023-net-sales-at-rs-918231-crore668-y-o-y_17132391.html', 'https://www.moneycontrol.com//news/results/asian-paints-standalone-june-2023-net-sales-at-rs-811396-crore696-y-o-y_17131521.html', 'https://www.moneycontrol.com//news/results/asian-paints-net-profit-jumps-52doubleâ\\x80\\x90digit-volume-growthindian-decorative-business_17130231.html', 'https://www.moneycontrol.com//news/result-poll/asian-paints-q1-pat-seen114-yoy-to-rs-11525-cr-nirmal-bang_17109171.html', 'https://www.moneycontrol.com//news/recommendations/accumulate-asian-paints-targetrs-3564-kr-choksey_17096611.html', 'https://www.moneycontrol.com//news/recommendations/accumulate-asian-paints-targetrs-3564-kr-choksey_17096601.html', 'https://www.moneycontrol.com//news/recommendations/buy-asian-paints-targetrs-3564-kr-choksey_17010521.html', 'https://www.moneycontrol.com//news/recommendations/neutral-asian-paints-targetrs-3120motilal-oswal_17000091.html', 'https://www.moneycontrol.com//news/recommendations/buy-asian-paints-targetrs-3510-sharekhan_17000041.html', 'https://www.moneycontrol.com//news/recommendations/accumulate-asian-paints-targetrs-3360-prabhudas-lilladher_16999551.html', 'https://www.moneycontrol.com//news/results/asian-paints-consolidated-march-2023-net-sales-at-rs-878734-crore1134-y-o-y_16997881.html', 'https://www.moneycontrol.com//news/results/asian-paints-standalone-march-2023-net-sales-at-rs-762601-crore1282-y-o-y_16997101.html', 'https://www.moneycontrol.com//news/results/asian-paints-q4-result-net-profit-rises-45-to-rs-1234-crore-revenue11_16996131.html']\n",
            "['https://www.moneycontrol.com//news/buzzing-stocks/bajaj-finance-to-raise-rs-10000-crore-via-qip-preferential-issue_17261171.html', 'https://www.moneycontrol.com//news/buzzing-stocks/bajaj-finance-hits-52-week-highrobust-q2-growth-brokerages-maintain-â\\x80\\x98buyâ\\x80\\x99_17258891.html', 'https://www.moneycontrol.com//news/recommendations/buy-bajaj-finance-targetrs-8800-sharekhan_17250511.html', 'https://www.moneycontrol.com//news/recommendations/buy-bajaj-finance-targetrs-8800-sharekhan_17250491.html', 'https://www.moneycontrol.com//news/buzzing-stocks/brokerages-cheer-bajaj-finance39s-billion-dollar-mega-fund-raise-lift-price-targets_17248641.html', 'https://www.moneycontrol.com//news/recommendations/buy-bajaj-finance-targetrs-8800-motilal-oswal_17231881.html', 'https://www.moneycontrol.com//news/buzzing-stocks/bajaj-finance39s-acquirecross-sell-strategy-to-be-key-growth-driverfy24-says-motilal-oswal_17231501.html', 'https://www.moneycontrol.com//news/recommendations/buy-bajaj-finance-targetrs-8252-geojit_17186141.html', 'https://www.moneycontrol.com//news/recommendations/buy-bajaj-finance-targetrs-8800-motilal-oswal_17141601.html', 'https://www.moneycontrol.com//news/recommendations/buy-bajaj-finance-targetrs-8800-motilal-oswal_17141591.html', 'https://www.moneycontrol.com//news/recommendations/buy-bajaj-finance-targetrs-8800-sharekhan_17141361.html', 'https://www.moneycontrol.com//news/results/bajaj-finance-consolidated-june-2023-net-sales-at-rs-1249781-crore3466-y-o-y_17136151.html', 'https://www.moneycontrol.com//news/results/bajaj-finance-standalone-june-2023-net-sales-at-rs-1066410-crore3093-y-o-y_17135951.html', 'https://www.moneycontrol.com//news/recommendations/buy-bajaj-finance-targetrs-7635-kr-choksey_16977911.html', 'https://www.moneycontrol.com//news/recommendations/buy-bajaj-finance-targetrs-7500-sharekhan_16977231.html', 'https://www.moneycontrol.com//news/recommendations/buy-bajaj-finance-targetrs-7250-icici-direct_16976911.html', 'https://www.moneycontrol.com//news/recommendations/buy-bajaj-finance-targetrs-7080motilal-oswal_16975361.html', 'https://www.moneycontrol.com//news/recommendations/buy-bajaj-finance-targetrs-7865-yes-securities_16975111.html', 'https://www.moneycontrol.com//news/recommendations/buy-bajaj-finance-targetrs-7835-prabhudas-lilladher_16975121.html', 'https://www.moneycontrol.com//news/results/bajaj-finance-consolidated-march-2023-net-sales-at-rs-1135959-crore3168-y-o-y_16974781.html']\n",
            "['https://www.moneycontrol.com//news/business/hcltech-business-finland-teamto-drive-digital-innovationgenerative-ai-metaverse_17258981.html', 'https://www.moneycontrol.com//news/buzzing-stocks/morgan-stanley-raises-infosys-tcs-hcl-tech-target-prices-checkratings_17252121.html', 'https://www.moneycontrol.com//news/buzzing-stocks/morgan-stanley-raises-infosys-tcs-hcl-tech-target-prices-checkratings_17252101.html', 'https://www.moneycontrol.com//news/buzzing-stocks/hcltech-bags-contractanz-to-provide-digital-workspace-services_17247221.html', 'https://www.moneycontrol.com//news/buzzing-stocks/hcltech-bags-contractanz-to-provide-digital-workspace-services_17247211.html', 'https://www.moneycontrol.com//news/buzzing-stocks/hcl-tech-hits-52-week-high-after-bagging-multi-year-dealsiemens_17232011.html', 'https://www.moneycontrol.com//news/buzzing-stocks/hcl-tech-hits-52-week-high-after-bagging-multi-year-dealsiemens_17232001.html', 'https://www.moneycontrol.com//news/results/hcl-tech-consolidated-june-2023-net-sales-at-rs-2629600-crore1207-y-o-y_17119791.html', 'https://www.moneycontrol.com//news/results/hcl-tech-standalone-june-2023-net-sales-at-rs-1145100-crore586-y-o-y_17118211.html', 'https://www.moneycontrol.com//news/recommendations/buy-hcl-technologies-targetrs-1333-religare-retail-research_17111411.html', 'https://www.moneycontrol.com//news/recommendations/buy-hcl-technologies-targetrs-1280-motilal-oswal_17111381.html', 'https://www.moneycontrol.com//news/recommendations/hold-hcl-tech-targetrs-1200-axis-securities_17111301.html', 'https://www.moneycontrol.com//news/recommendations/buy-hcl-technologies-targetrs-1265-sharekhan_17111281.html', 'https://www.moneycontrol.com//news/recommendations/buy-hcl-technologies-targetrs-1220-icici-direct_16969911.html', 'https://www.moneycontrol.com//news/recommendations/buy-hcl-tech-targetrs-1150-emkay-global-financial_16967531.html', 'https://www.moneycontrol.com//news/results/hcl-tech-consolidated-march-2023-net-sales-at-rs-2660600-crore1774-y-o-y_16967221.html', 'https://www.moneycontrol.com//news/recommendations/buy-hcl-technologies-targetrs-1175-sharekhan_16966881.html', 'https://www.moneycontrol.com//news/results/hcl-tech-standalone-march-2023-net-sales-at-rs-1163700-crore943-y-o-y_16966401.html', 'https://www.moneycontrol.com//news/results/hcltech-beats-profit-estimates-logs11-jumpq4-net-to-rs-3981-crore_16965921.html']\n"
          ]
        }
      ],
      "source": [
        "import requests\n",
        "from bs4 import BeautifulSoup\n",
        "import json\n",
        "import re\n",
        "\n",
        "def get_blog_url(soup):\n",
        "    div_ = soup.find_all('div', attrs={'class': \"FL PR20\"})\n",
        "    url_list = []\n",
        "    for title in div_:\n",
        "        href = (title.find('a')['href'])\n",
        "        url_list.append(\"https://www.moneycontrol.com/\" + href)\n",
        "    return url_list\n",
        "\n",
        "def get_blog_content(url):\n",
        "    request = requests.get(url)\n",
        "    soup = BeautifulSoup(request.text, 'html.parser')\n",
        "    all_script = soup.find_all('script', attrs={'type':'application/ld+json'})\n",
        "    raw_article_str = all_script[2].get_text().replace(\"\\r\\n\", \" \")\n",
        "    parts = re.split(r\"\"\"(\"[^\"|'[^']*')\"\"\", raw_article_str)\n",
        "    parts[::2] = map(lambda s: \"\".join(s.split()), parts[::2])\n",
        "    article_str = \"\".join(parts)\n",
        "    article_str = article_str[1:]\n",
        "    article_str = article_str[:-1]\n",
        "    article_dict = json.loads(article_str)\n",
        "    all_tags = soup.findAll('div', attrs={'class':'tags_first_line'})\n",
        "    lst_all_tags = []\n",
        "    for i in all_tags:\n",
        "        lst_all_tags.append(i.get_text())\n",
        "    tags = lst_all_tags[0].replace(\"Tags: \", \"\")\n",
        "    tags = tags.replace(\"\\n\", \"\")\n",
        "    tags = tags.split(\"#\")\n",
        "    tags = tags[1:]\n",
        "    tags = \", \".join([str(elem).strip() for elem in tags])\n",
        "    article_dict['tags'] = tags\n",
        "    return article_dict\n",
        "\n",
        "sc_id=[\"RI\", \"AE01\", \"API\", \"BAF\", \"HCL02\"]\n",
        "# Web scraping multiple pages with pagination\n",
        "for page in sc_id:  # Assuming there are 3 pages\n",
        "    url = f\"https://www.moneycontrol.com/stocks/company_info/stock_news.php?sc_id={page}\"\n",
        "    response = requests.get(url)\n",
        "    soup = BeautifulSoup(response.text, \"html.parser\")\n",
        "    url_list = get_blog_url(soup)\n",
        "    print(url_list)\n",
        "    \n",
        "    # print(\"---------------------\")\n",
        "    # print(f\"For Company: {page}\")\n",
        "    # print(\"---------------------\")\n",
        "    # for url in url_list:\n",
        "    #     article_dict = get_blog_content(url)\n",
        "    #     print(page)\n",
        "    #     print(article_dict['datePublished'])\n",
        "    #     print(article_dict['author'])\n",
        "    #     print(article_dict['headline'])"
      ]
    },
    {
      "cell_type": "code",
      "execution_count": null,
      "metadata": {},
      "outputs": [],
      "source": []
    }
  ],
  "metadata": {
    "colab": {
      "provenance": []
    },
    "kernelspec": {
      "display_name": "Python 3",
      "name": "python3"
    },
    "language_info": {
      "codemirror_mode": {
        "name": "ipython",
        "version": 3
      },
      "file_extension": ".py",
      "mimetype": "text/x-python",
      "name": "python",
      "nbconvert_exporter": "python",
      "pygments_lexer": "ipython3",
      "version": "3.10.6"
    }
  },
  "nbformat": 4,
  "nbformat_minor": 0
}
