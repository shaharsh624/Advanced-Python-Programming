{
 "cells": [
  {
   "cell_type": "code",
   "execution_count": 1,
   "metadata": {},
   "outputs": [
    {
     "name": "stdout",
     "output_type": "stream",
     "text": [
      "<html>\n",
      " <body>\n",
      "  <ul>\n",
      "   <li>\n",
      "    Item 1\n",
      "   </li>\n",
      "   <li>\n",
      "    Item 2\n",
      "   </li>\n",
      "   <li>\n",
      "    Item 33\n",
      "   </li>\n",
      "  </ul>\n",
      " </body>\n",
      "</html>\n",
      "[<li>Item 1</li>, <li>Item 2</li>, <li>Item 33</li>]\n",
      "Item 1\n",
      "Item 2\n",
      "Item 33\n"
     ]
    }
   ],
   "source": [
    "from bs4 import BeautifulSoup\n",
    "\n",
    "html_content = \"<ul><li>Item 1</li> <li>Item 2</li><li>Item 33</li></ul>\"\n",
    "soup = BeautifulSoup(html_content, \"lxml\")\n",
    "print(soup.prettify())\n",
    "Items = soup.find_all(\"li\")\n",
    "print(Items)\n",
    "for item in Items:\n",
    "    print(item.text)\n"
   ]
  },
  {
   "cell_type": "code",
   "execution_count": null,
   "metadata": {},
   "outputs": [],
   "source": []
  }
 ],
 "metadata": {
  "kernelspec": {
   "display_name": "Python 3",
   "language": "python",
   "name": "python3"
  },
  "language_info": {
   "codemirror_mode": {
    "name": "ipython",
    "version": 3
   },
   "file_extension": ".py",
   "mimetype": "text/x-python",
   "name": "python",
   "nbconvert_exporter": "python",
   "pygments_lexer": "ipython3",
   "version": "3.10.6"
  },
  "orig_nbformat": 4
 },
 "nbformat": 4,
 "nbformat_minor": 2
}
