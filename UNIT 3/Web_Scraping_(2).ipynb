{
  "nbformat": 4,
  "nbformat_minor": 0,
  "metadata": {
    "colab": {
      "provenance": []
    },
    "kernelspec": {
      "name": "python3",
      "display_name": "Python 3"
    },
    "language_info": {
      "name": "python"
    }
  },
  "cells": [
    {
      "cell_type": "markdown",
      "source": [
        "Example 1: Basic HTML Parsing"
      ],
      "metadata": {
        "id": "bdL0WHxMcQJh"
      }
    },
    {
      "cell_type": "code",
      "execution_count": null,
      "metadata": {
        "colab": {
          "base_uri": "https://localhost:8080/"
        },
        "id": "R3jSlbvWbSXT",
        "outputId": "e99e8196-6bb5-42e1-e25b-65d665885af7"
      },
      "outputs": [
        {
          "output_type": "stream",
          "name": "stdout",
          "text": [
            "Title: <title>My Web Page</title>\n",
            "Paragraph: Hello, World!\n"
          ]
        }
      ],
      "source": [
        "from bs4 import BeautifulSoup\n",
        "\n",
        "# Sample HTML content\n",
        "html_content = \"<html><head><title>My Web Page</title></head><body><p>Hello, World!</p></body></html>\"\n",
        "\n",
        "# Parse the HTML\n",
        "soup = BeautifulSoup(html_content, \"html.parser\")\n",
        "\n",
        "# Print the title tag\n",
        "print(\"Title:\", soup.title)\n",
        "\n",
        "# Print the paragraph text\n",
        "print(\"Paragraph:\", soup.p.text)\n"
      ]
    },
    {
      "cell_type": "markdown",
      "source": [
        "Example 2: Finding Elements by Tag"
      ],
      "metadata": {
        "id": "BZeQVlTOcafB"
      }
    },
    {
      "cell_type": "code",
      "source": [
        "from bs4 import BeautifulSoup\n",
        "\n",
        "# Sample HTML content\n",
        "html_content = \"<ul><li>Item 1</li><li>Item 2</li><li>Item 3</li></ul>\"\n",
        "\n",
        "# Parse the HTML\n",
        "soup = BeautifulSoup(html_content, \"html.parser\")\n",
        "\n",
        "# Find all list items\n",
        "items = soup.find_all(\"li\")\n",
        "\n",
        "# Print each item\n",
        "for item in items:\n",
        "    print(item.text)\n"
      ],
      "metadata": {
        "colab": {
          "base_uri": "https://localhost:8080/"
        },
        "id": "F8ekvJCMcaGq",
        "outputId": "1565d320-86fa-40d4-e09c-0219e24bd251"
      },
      "execution_count": null,
      "outputs": [
        {
          "output_type": "stream",
          "name": "stdout",
          "text": [
            "Item 1\n",
            "Item 2\n",
            "Item 3\n"
          ]
        }
      ]
    },
    {
      "cell_type": "markdown",
      "source": [
        "Example 3: Finding Elements by Class"
      ],
      "metadata": {
        "id": "T1s5eoSUcb9T"
      }
    },
    {
      "cell_type": "code",
      "source": [
        "from bs4 import BeautifulSoup\n",
        "\n",
        "# Sample HTML content\n",
        "html_content = \"<div class='container'><p class='text'>Hello, World!</p></div>\"\n",
        "\n",
        "# Parse the HTML\n",
        "soup = BeautifulSoup(html_content, \"html.parser\")\n",
        "\n",
        "# Find the paragraph with class 'text'\n",
        "paragraph = soup.find(\"p\", class_=\"text\")\n",
        "\n",
        "# Print the paragraph text\n",
        "print(paragraph.text)\n"
      ],
      "metadata": {
        "colab": {
          "base_uri": "https://localhost:8080/"
        },
        "id": "VmTRW6mJccW1",
        "outputId": "9967d2fd-ecfe-4aa5-c034-21cdd122ff2a"
      },
      "execution_count": null,
      "outputs": [
        {
          "output_type": "stream",
          "name": "stdout",
          "text": [
            "Hello, World!\n"
          ]
        }
      ]
    },
    {
      "cell_type": "markdown",
      "source": [
        "Example 4: Finding Elements by ID"
      ],
      "metadata": {
        "id": "6RWax_yycckD"
      }
    },
    {
      "cell_type": "code",
      "source": [
        "from bs4 import BeautifulSoup\n",
        "\n",
        "# Sample HTML content\n",
        "html_content = \"<div id='content'><p>Hello, World!</p></div>\"\n",
        "\n",
        "# Parse the HTML\n",
        "soup = BeautifulSoup(html_content, \"html.parser\")\n",
        "\n",
        "# Find the div with id 'content'\n",
        "div = soup.find(\"div\", id=\"content\")\n",
        "\n",
        "# Print the paragraph text\n",
        "print(div.p.text)\n"
      ],
      "metadata": {
        "colab": {
          "base_uri": "https://localhost:8080/"
        },
        "id": "q_eLvmXTccv2",
        "outputId": "33b7f5a6-412d-41ca-ecb4-62b34c05fcbf"
      },
      "execution_count": null,
      "outputs": [
        {
          "output_type": "stream",
          "name": "stdout",
          "text": [
            "Hello, World!\n"
          ]
        }
      ]
    },
    {
      "cell_type": "markdown",
      "source": [
        "Example 5: Navigating the HTML Tree"
      ],
      "metadata": {
        "id": "CdxF4e6dcdu1"
      }
    },
    {
      "cell_type": "code",
      "source": [
        "from bs4 import BeautifulSoup\n",
        "\n",
        "# Sample HTML content\n",
        "html_content = \"<div><p>Paragraph 1</p><p>Paragraph 2</p></div>\"\n",
        "\n",
        "# Parse the HTML\n",
        "soup = BeautifulSoup(html_content, \"html.parser\")\n",
        "\n",
        "# Navigate the HTML tree\n",
        "div = soup.div\n",
        "for p in div.find_all(\"p\"):\n",
        "    print(p.text)\n"
      ],
      "metadata": {
        "colab": {
          "base_uri": "https://localhost:8080/"
        },
        "id": "eYjhTN99cd6a",
        "outputId": "d715dbc9-033b-497f-e089-3aaae9e220d3"
      },
      "execution_count": null,
      "outputs": [
        {
          "output_type": "stream",
          "name": "stdout",
          "text": [
            "Paragraph 1\n",
            "Paragraph 2\n"
          ]
        }
      ]
    },
    {
      "cell_type": "markdown",
      "source": [
        "Example 6: Extracting Attributes"
      ],
      "metadata": {
        "id": "YprhsNVBceEb"
      }
    },
    {
      "cell_type": "code",
      "source": [
        "from bs4 import BeautifulSoup\n",
        "\n",
        "# Sample HTML content\n",
        "html_content = \"<a href='https://example.com'>Visit Example</a>\"\n",
        "\n",
        "# Parse the HTML\n",
        "soup = BeautifulSoup(html_content, \"html.parser\")\n",
        "\n",
        "# Extract the 'href' attribute\n",
        "link = soup.a\n",
        "print(\"Link Text:\", link.text)\n",
        "print(\"Link URL:\", link[\"href\"])\n"
      ],
      "metadata": {
        "colab": {
          "base_uri": "https://localhost:8080/"
        },
        "id": "wdN6qvW0ceQL",
        "outputId": "ad00d51d-5c97-4721-b99b-04c7ba3eb95d"
      },
      "execution_count": null,
      "outputs": [
        {
          "output_type": "stream",
          "name": "stdout",
          "text": [
            "Link Text: Visit Example\n",
            "Link URL: https://example.com\n"
          ]
        }
      ]
    },
    {
      "cell_type": "markdown",
      "source": [
        "\n",
        "\n",
        "```\n",
        "Example 7: Web Scraping a Real Website\n",
        "```\n",
        "\n"
      ],
      "metadata": {
        "id": "wgExPHPGceZQ"
      }
    },
    {
      "cell_type": "code",
      "source": [
        "import requests\n",
        "from bs4 import BeautifulSoup\n",
        "\n",
        "# Make an HTTP GET request\n",
        "url = \"https://example.com\"\n",
        "response = requests.get(url)\n",
        "\n",
        "# Parse the HTML\n",
        "soup = BeautifulSoup(response.text, \"html.parser\")\n",
        "\n",
        "# Extract and print the page title\n",
        "title = soup.title\n",
        "print(\"Page Title:\", title.text)\n"
      ],
      "metadata": {
        "colab": {
          "base_uri": "https://localhost:8080/"
        },
        "id": "GRU99Ub0cejC",
        "outputId": "25abe5d7-6ea0-4bd2-c984-7062cb3a9483"
      },
      "execution_count": null,
      "outputs": [
        {
          "output_type": "stream",
          "name": "stdout",
          "text": [
            "Page Title: Example Domain\n"
          ]
        }
      ]
    },
    {
      "cell_type": "markdown",
      "source": [
        "Example 8: Scraping Tables\n"
      ],
      "metadata": {
        "id": "cHpqv9MncesG"
      }
    },
    {
      "cell_type": "code",
      "source": [
        "from bs4 import BeautifulSoup\n",
        "\n",
        "# Sample HTML content with a table\n",
        "html_content = \"<table><tr><th>Name</th><th>Age</th></tr><tr><td>Alice</td><td>25</td></tr><tr><td>Bob</td><td>30</td></tr></table>\"\n",
        "\n",
        "# Parse the HTML\n",
        "soup = BeautifulSoup(html_content, \"html.parser\")\n",
        "\n",
        "# Find the table\n",
        "table = soup.find(\"table\")\n",
        "\n",
        "# Extract and print table data\n",
        "for row in table.find_all(\"tr\")[1:]:\n",
        "    columns = row.find_all(\"td\")\n",
        "    name = columns[0].text\n",
        "    age = columns[1].text\n",
        "    print(f\"Name: {name}, Age: {age}\")\n"
      ],
      "metadata": {
        "colab": {
          "base_uri": "https://localhost:8080/"
        },
        "id": "0OTbQlfEce2c",
        "outputId": "9f6edb3d-2d2e-4685-e4d5-6d700e5bb1f7"
      },
      "execution_count": null,
      "outputs": [
        {
          "output_type": "stream",
          "name": "stdout",
          "text": [
            "Name: Alice, Age: 25\n",
            "Name: Bob, Age: 30\n"
          ]
        }
      ]
    },
    {
      "cell_type": "markdown",
      "source": [
        "Example 9: Scraping Images"
      ],
      "metadata": {
        "id": "wlM7JkATce_A"
      }
    },
    {
      "cell_type": "code",
      "source": [
        "from bs4 import BeautifulSoup\n",
        "\n",
        "# Sample HTML content with an image\n",
        "html_content = \"<img src='https://example.com/image.jpg' alt='Sample Image'>\"\n",
        "\n",
        "# Parse the HTML\n",
        "soup = BeautifulSoup(html_content, \"html.parser\")\n",
        "\n",
        "# Find the image\n",
        "image = soup.img\n",
        "\n",
        "# Extract and print the image source and alt text\n",
        "src = image[\"src\"]\n",
        "alt = image[\"alt\"]\n",
        "print(\"Image Source:\", src)\n",
        "print(\"Image Alt Text:\", alt)\n"
      ],
      "metadata": {
        "colab": {
          "base_uri": "https://localhost:8080/"
        },
        "id": "Ks6oD6JZcfIy",
        "outputId": "acf04f36-a9d7-48f7-b02d-bdd6e35d0c09"
      },
      "execution_count": null,
      "outputs": [
        {
          "output_type": "stream",
          "name": "stdout",
          "text": [
            "Image Source: https://example.com/image.jpg\n",
            "Image Alt Text: Sample Image\n"
          ]
        }
      ]
    },
    {
      "cell_type": "markdown",
      "source": [
        "Example 10: Web Scraping Pagination\n"
      ],
      "metadata": {
        "id": "QFau1u_ocfS0"
      }
    },
    {
      "cell_type": "code",
      "source": [
        "import requests\n",
        "from bs4 import BeautifulSoup\n",
        "\n",
        "# Web scraping multiple pages with pagination\n",
        "for page in range(1, 4):  # Assuming there are 3 pages\n",
        "    url = f\"https://example.com/page/{page}\"\n",
        "    response = requests.get(url)\n",
        "    soup = BeautifulSoup(response.text, \"html.parser\")\n",
        "\n",
        "    # Extract and process data from each page\n",
        "    # (e.g., extract items, navigate to the next page)\n",
        "    # Your code here...\n"
      ],
      "metadata": {
        "id": "3d9VnVf3cfcC"
      },
      "execution_count": null,
      "outputs": []
    },
    {
      "cell_type": "markdown",
      "source": [
        "## Celinium web scraping library"
      ],
      "metadata": {
        "id": "7FYHJODg2VWr"
      }
    },
    {
      "cell_type": "markdown",
      "source": [
        "Example 1: Opening a Web Page"
      ],
      "metadata": {
        "id": "TXV-G4w02gQU"
      }
    },
    {
      "cell_type": "code",
      "source": [
        "!pip install selenium"
      ],
      "metadata": {
        "colab": {
          "base_uri": "https://localhost:8080/"
        },
        "id": "oUN_AiQh3jAI",
        "outputId": "7129f608-8be3-40dd-d24a-ab4048018db5"
      },
      "execution_count": 1,
      "outputs": [
        {
          "output_type": "stream",
          "name": "stdout",
          "text": [
            "Collecting selenium\n",
            "  Downloading selenium-4.14.0-py3-none-any.whl (9.9 MB)\n",
            "\u001b[2K     \u001b[90m━━━━━━━━━━━━━━━━━━━━━━━━━━━━━━━━━━━━━━━━\u001b[0m \u001b[32m9.9/9.9 MB\u001b[0m \u001b[31m46.5 MB/s\u001b[0m eta \u001b[36m0:00:00\u001b[0m\n",
            "\u001b[?25hRequirement already satisfied: urllib3[socks]<3,>=1.26 in /usr/local/lib/python3.10/dist-packages (from selenium) (2.0.6)\n",
            "Collecting trio~=0.17 (from selenium)\n",
            "  Downloading trio-0.22.2-py3-none-any.whl (400 kB)\n",
            "\u001b[2K     \u001b[90m━━━━━━━━━━━━━━━━━━━━━━━━━━━━━━━━━━━━━━\u001b[0m \u001b[32m400.2/400.2 kB\u001b[0m \u001b[31m27.7 MB/s\u001b[0m eta \u001b[36m0:00:00\u001b[0m\n",
            "\u001b[?25hCollecting trio-websocket~=0.9 (from selenium)\n",
            "  Downloading trio_websocket-0.11.1-py3-none-any.whl (17 kB)\n",
            "Requirement already satisfied: certifi>=2021.10.8 in /usr/local/lib/python3.10/dist-packages (from selenium) (2023.7.22)\n",
            "Requirement already satisfied: attrs>=20.1.0 in /usr/local/lib/python3.10/dist-packages (from trio~=0.17->selenium) (23.1.0)\n",
            "Requirement already satisfied: sortedcontainers in /usr/local/lib/python3.10/dist-packages (from trio~=0.17->selenium) (2.4.0)\n",
            "Requirement already satisfied: idna in /usr/local/lib/python3.10/dist-packages (from trio~=0.17->selenium) (3.4)\n",
            "Collecting outcome (from trio~=0.17->selenium)\n",
            "  Downloading outcome-1.2.0-py2.py3-none-any.whl (9.7 kB)\n",
            "Requirement already satisfied: sniffio in /usr/local/lib/python3.10/dist-packages (from trio~=0.17->selenium) (1.3.0)\n",
            "Requirement already satisfied: exceptiongroup>=1.0.0rc9 in /usr/local/lib/python3.10/dist-packages (from trio~=0.17->selenium) (1.1.3)\n",
            "Collecting wsproto>=0.14 (from trio-websocket~=0.9->selenium)\n",
            "  Downloading wsproto-1.2.0-py3-none-any.whl (24 kB)\n",
            "Requirement already satisfied: pysocks!=1.5.7,<2.0,>=1.5.6 in /usr/local/lib/python3.10/dist-packages (from urllib3[socks]<3,>=1.26->selenium) (1.7.1)\n",
            "Collecting h11<1,>=0.9.0 (from wsproto>=0.14->trio-websocket~=0.9->selenium)\n",
            "  Downloading h11-0.14.0-py3-none-any.whl (58 kB)\n",
            "\u001b[2K     \u001b[90m━━━━━━━━━━━━━━━━━━━━━━━━━━━━━━━━━━━━━━━━\u001b[0m \u001b[32m58.3/58.3 kB\u001b[0m \u001b[31m6.4 MB/s\u001b[0m eta \u001b[36m0:00:00\u001b[0m\n",
            "\u001b[?25hInstalling collected packages: outcome, h11, wsproto, trio, trio-websocket, selenium\n",
            "Successfully installed h11-0.14.0 outcome-1.2.0 selenium-4.14.0 trio-0.22.2 trio-websocket-0.11.1 wsproto-1.2.0\n"
          ]
        }
      ]
    },
    {
      "cell_type": "code",
      "source": [
        "from selenium import webdriver\n",
        "\n",
        "# Initialize the WebDriver\n",
        "driver = webdriver.Chrome()  # or webdriver.Firefox() for Firefox\n",
        "\n",
        "# Navigate to a website\n",
        "driver.get(\"https://www.indiatoday.in/\")\n",
        "\n",
        "# Close the browser\n",
        "driver.quit()\n"
      ],
      "metadata": {
        "colab": {
          "base_uri": "https://localhost:8080/",
          "height": 789
        },
        "id": "MX0yrS8n2UIs",
        "outputId": "441daec3-c7f6-43d9-bff2-5f8cdab74d35"
      },
      "execution_count": 2,
      "outputs": [
        {
          "output_type": "error",
          "ename": "SessionNotCreatedException",
          "evalue": "ignored",
          "traceback": [
            "\u001b[0;31m---------------------------------------------------------------------------\u001b[0m",
            "\u001b[0;31mSessionNotCreatedException\u001b[0m                Traceback (most recent call last)",
            "\u001b[0;32m<ipython-input-2-c7cbb3aca7dd>\u001b[0m in \u001b[0;36m<cell line: 4>\u001b[0;34m()\u001b[0m\n\u001b[1;32m      2\u001b[0m \u001b[0;34m\u001b[0m\u001b[0m\n\u001b[1;32m      3\u001b[0m \u001b[0;31m# Initialize the WebDriver\u001b[0m\u001b[0;34m\u001b[0m\u001b[0;34m\u001b[0m\u001b[0m\n\u001b[0;32m----> 4\u001b[0;31m \u001b[0mdriver\u001b[0m \u001b[0;34m=\u001b[0m \u001b[0mwebdriver\u001b[0m\u001b[0;34m.\u001b[0m\u001b[0mChrome\u001b[0m\u001b[0;34m(\u001b[0m\u001b[0;34m)\u001b[0m  \u001b[0;31m# or webdriver.Firefox() for Firefox\u001b[0m\u001b[0;34m\u001b[0m\u001b[0;34m\u001b[0m\u001b[0m\n\u001b[0m\u001b[1;32m      5\u001b[0m \u001b[0;34m\u001b[0m\u001b[0m\n\u001b[1;32m      6\u001b[0m \u001b[0;31m# Navigate to a website\u001b[0m\u001b[0;34m\u001b[0m\u001b[0;34m\u001b[0m\u001b[0m\n",
            "\u001b[0;32m/usr/local/lib/python3.10/dist-packages/selenium/webdriver/chrome/webdriver.py\u001b[0m in \u001b[0;36m__init__\u001b[0;34m(self, options, service, keep_alive)\u001b[0m\n\u001b[1;32m     43\u001b[0m         \u001b[0moptions\u001b[0m \u001b[0;34m=\u001b[0m \u001b[0moptions\u001b[0m \u001b[0;32mif\u001b[0m \u001b[0moptions\u001b[0m \u001b[0;32melse\u001b[0m \u001b[0mOptions\u001b[0m\u001b[0;34m(\u001b[0m\u001b[0;34m)\u001b[0m\u001b[0;34m\u001b[0m\u001b[0;34m\u001b[0m\u001b[0m\n\u001b[1;32m     44\u001b[0m \u001b[0;34m\u001b[0m\u001b[0m\n\u001b[0;32m---> 45\u001b[0;31m         super().__init__(\n\u001b[0m\u001b[1;32m     46\u001b[0m             \u001b[0mDesiredCapabilities\u001b[0m\u001b[0;34m.\u001b[0m\u001b[0mCHROME\u001b[0m\u001b[0;34m[\u001b[0m\u001b[0;34m\"browserName\"\u001b[0m\u001b[0;34m]\u001b[0m\u001b[0;34m,\u001b[0m\u001b[0;34m\u001b[0m\u001b[0;34m\u001b[0m\u001b[0m\n\u001b[1;32m     47\u001b[0m             \u001b[0;34m\"goog\"\u001b[0m\u001b[0;34m,\u001b[0m\u001b[0;34m\u001b[0m\u001b[0;34m\u001b[0m\u001b[0m\n",
            "\u001b[0;32m/usr/local/lib/python3.10/dist-packages/selenium/webdriver/chromium/webdriver.py\u001b[0m in \u001b[0;36m__init__\u001b[0;34m(self, browser_name, vendor_prefix, options, service, keep_alive)\u001b[0m\n\u001b[1;32m     54\u001b[0m \u001b[0;34m\u001b[0m\u001b[0m\n\u001b[1;32m     55\u001b[0m         \u001b[0;32mtry\u001b[0m\u001b[0;34m:\u001b[0m\u001b[0;34m\u001b[0m\u001b[0;34m\u001b[0m\u001b[0m\n\u001b[0;32m---> 56\u001b[0;31m             super().__init__(\n\u001b[0m\u001b[1;32m     57\u001b[0m                 command_executor=ChromiumRemoteConnection(\n\u001b[1;32m     58\u001b[0m                     \u001b[0mremote_server_addr\u001b[0m\u001b[0;34m=\u001b[0m\u001b[0mself\u001b[0m\u001b[0;34m.\u001b[0m\u001b[0mservice\u001b[0m\u001b[0;34m.\u001b[0m\u001b[0mservice_url\u001b[0m\u001b[0;34m,\u001b[0m\u001b[0;34m\u001b[0m\u001b[0;34m\u001b[0m\u001b[0m\n",
            "\u001b[0;32m/usr/local/lib/python3.10/dist-packages/selenium/webdriver/remote/webdriver.py\u001b[0m in \u001b[0;36m__init__\u001b[0;34m(self, command_executor, keep_alive, file_detector, options)\u001b[0m\n\u001b[1;32m    203\u001b[0m         \u001b[0mself\u001b[0m\u001b[0;34m.\u001b[0m\u001b[0m_authenticator_id\u001b[0m \u001b[0;34m=\u001b[0m \u001b[0;32mNone\u001b[0m\u001b[0;34m\u001b[0m\u001b[0;34m\u001b[0m\u001b[0m\n\u001b[1;32m    204\u001b[0m         \u001b[0mself\u001b[0m\u001b[0;34m.\u001b[0m\u001b[0mstart_client\u001b[0m\u001b[0;34m(\u001b[0m\u001b[0;34m)\u001b[0m\u001b[0;34m\u001b[0m\u001b[0;34m\u001b[0m\u001b[0m\n\u001b[0;32m--> 205\u001b[0;31m         \u001b[0mself\u001b[0m\u001b[0;34m.\u001b[0m\u001b[0mstart_session\u001b[0m\u001b[0;34m(\u001b[0m\u001b[0mcapabilities\u001b[0m\u001b[0;34m)\u001b[0m\u001b[0;34m\u001b[0m\u001b[0;34m\u001b[0m\u001b[0m\n\u001b[0m\u001b[1;32m    206\u001b[0m \u001b[0;34m\u001b[0m\u001b[0m\n\u001b[1;32m    207\u001b[0m     \u001b[0;32mdef\u001b[0m \u001b[0m__repr__\u001b[0m\u001b[0;34m(\u001b[0m\u001b[0mself\u001b[0m\u001b[0;34m)\u001b[0m\u001b[0;34m:\u001b[0m\u001b[0;34m\u001b[0m\u001b[0;34m\u001b[0m\u001b[0m\n",
            "\u001b[0;32m/usr/local/lib/python3.10/dist-packages/selenium/webdriver/remote/webdriver.py\u001b[0m in \u001b[0;36mstart_session\u001b[0;34m(self, capabilities)\u001b[0m\n\u001b[1;32m    287\u001b[0m \u001b[0;34m\u001b[0m\u001b[0m\n\u001b[1;32m    288\u001b[0m         \u001b[0mcaps\u001b[0m \u001b[0;34m=\u001b[0m \u001b[0m_create_caps\u001b[0m\u001b[0;34m(\u001b[0m\u001b[0mcapabilities\u001b[0m\u001b[0;34m)\u001b[0m\u001b[0;34m\u001b[0m\u001b[0;34m\u001b[0m\u001b[0m\n\u001b[0;32m--> 289\u001b[0;31m         \u001b[0mresponse\u001b[0m \u001b[0;34m=\u001b[0m \u001b[0mself\u001b[0m\u001b[0;34m.\u001b[0m\u001b[0mexecute\u001b[0m\u001b[0;34m(\u001b[0m\u001b[0mCommand\u001b[0m\u001b[0;34m.\u001b[0m\u001b[0mNEW_SESSION\u001b[0m\u001b[0;34m,\u001b[0m \u001b[0mcaps\u001b[0m\u001b[0;34m)\u001b[0m\u001b[0;34m[\u001b[0m\u001b[0;34m\"value\"\u001b[0m\u001b[0;34m]\u001b[0m\u001b[0;34m\u001b[0m\u001b[0;34m\u001b[0m\u001b[0m\n\u001b[0m\u001b[1;32m    290\u001b[0m         \u001b[0mself\u001b[0m\u001b[0;34m.\u001b[0m\u001b[0msession_id\u001b[0m \u001b[0;34m=\u001b[0m \u001b[0mresponse\u001b[0m\u001b[0;34m.\u001b[0m\u001b[0mget\u001b[0m\u001b[0;34m(\u001b[0m\u001b[0;34m\"sessionId\"\u001b[0m\u001b[0;34m)\u001b[0m\u001b[0;34m\u001b[0m\u001b[0;34m\u001b[0m\u001b[0m\n\u001b[1;32m    291\u001b[0m         \u001b[0mself\u001b[0m\u001b[0;34m.\u001b[0m\u001b[0mcaps\u001b[0m \u001b[0;34m=\u001b[0m \u001b[0mresponse\u001b[0m\u001b[0;34m.\u001b[0m\u001b[0mget\u001b[0m\u001b[0;34m(\u001b[0m\u001b[0;34m\"capabilities\"\u001b[0m\u001b[0;34m)\u001b[0m\u001b[0;34m\u001b[0m\u001b[0;34m\u001b[0m\u001b[0m\n",
            "\u001b[0;32m/usr/local/lib/python3.10/dist-packages/selenium/webdriver/remote/webdriver.py\u001b[0m in \u001b[0;36mexecute\u001b[0;34m(self, driver_command, params)\u001b[0m\n\u001b[1;32m    342\u001b[0m         \u001b[0mresponse\u001b[0m \u001b[0;34m=\u001b[0m \u001b[0mself\u001b[0m\u001b[0;34m.\u001b[0m\u001b[0mcommand_executor\u001b[0m\u001b[0;34m.\u001b[0m\u001b[0mexecute\u001b[0m\u001b[0;34m(\u001b[0m\u001b[0mdriver_command\u001b[0m\u001b[0;34m,\u001b[0m \u001b[0mparams\u001b[0m\u001b[0;34m)\u001b[0m\u001b[0;34m\u001b[0m\u001b[0;34m\u001b[0m\u001b[0m\n\u001b[1;32m    343\u001b[0m         \u001b[0;32mif\u001b[0m \u001b[0mresponse\u001b[0m\u001b[0;34m:\u001b[0m\u001b[0;34m\u001b[0m\u001b[0;34m\u001b[0m\u001b[0m\n\u001b[0;32m--> 344\u001b[0;31m             \u001b[0mself\u001b[0m\u001b[0;34m.\u001b[0m\u001b[0merror_handler\u001b[0m\u001b[0;34m.\u001b[0m\u001b[0mcheck_response\u001b[0m\u001b[0;34m(\u001b[0m\u001b[0mresponse\u001b[0m\u001b[0;34m)\u001b[0m\u001b[0;34m\u001b[0m\u001b[0;34m\u001b[0m\u001b[0m\n\u001b[0m\u001b[1;32m    345\u001b[0m             \u001b[0mresponse\u001b[0m\u001b[0;34m[\u001b[0m\u001b[0;34m\"value\"\u001b[0m\u001b[0;34m]\u001b[0m \u001b[0;34m=\u001b[0m \u001b[0mself\u001b[0m\u001b[0;34m.\u001b[0m\u001b[0m_unwrap_value\u001b[0m\u001b[0;34m(\u001b[0m\u001b[0mresponse\u001b[0m\u001b[0;34m.\u001b[0m\u001b[0mget\u001b[0m\u001b[0;34m(\u001b[0m\u001b[0;34m\"value\"\u001b[0m\u001b[0;34m,\u001b[0m \u001b[0;32mNone\u001b[0m\u001b[0;34m)\u001b[0m\u001b[0;34m)\u001b[0m\u001b[0;34m\u001b[0m\u001b[0;34m\u001b[0m\u001b[0m\n\u001b[1;32m    346\u001b[0m             \u001b[0;32mreturn\u001b[0m \u001b[0mresponse\u001b[0m\u001b[0;34m\u001b[0m\u001b[0;34m\u001b[0m\u001b[0m\n",
            "\u001b[0;32m/usr/local/lib/python3.10/dist-packages/selenium/webdriver/remote/errorhandler.py\u001b[0m in \u001b[0;36mcheck_response\u001b[0;34m(self, response)\u001b[0m\n\u001b[1;32m    227\u001b[0m                 \u001b[0malert_text\u001b[0m \u001b[0;34m=\u001b[0m \u001b[0mvalue\u001b[0m\u001b[0;34m[\u001b[0m\u001b[0;34m\"alert\"\u001b[0m\u001b[0;34m]\u001b[0m\u001b[0;34m.\u001b[0m\u001b[0mget\u001b[0m\u001b[0;34m(\u001b[0m\u001b[0;34m\"text\"\u001b[0m\u001b[0;34m)\u001b[0m\u001b[0;34m\u001b[0m\u001b[0;34m\u001b[0m\u001b[0m\n\u001b[1;32m    228\u001b[0m             \u001b[0;32mraise\u001b[0m \u001b[0mexception_class\u001b[0m\u001b[0;34m(\u001b[0m\u001b[0mmessage\u001b[0m\u001b[0;34m,\u001b[0m \u001b[0mscreen\u001b[0m\u001b[0;34m,\u001b[0m \u001b[0mstacktrace\u001b[0m\u001b[0;34m,\u001b[0m \u001b[0malert_text\u001b[0m\u001b[0;34m)\u001b[0m  \u001b[0;31m# type: ignore[call-arg]  # mypy is not smart enough here\u001b[0m\u001b[0;34m\u001b[0m\u001b[0;34m\u001b[0m\u001b[0m\n\u001b[0;32m--> 229\u001b[0;31m         \u001b[0;32mraise\u001b[0m \u001b[0mexception_class\u001b[0m\u001b[0;34m(\u001b[0m\u001b[0mmessage\u001b[0m\u001b[0;34m,\u001b[0m \u001b[0mscreen\u001b[0m\u001b[0;34m,\u001b[0m \u001b[0mstacktrace\u001b[0m\u001b[0;34m)\u001b[0m\u001b[0;34m\u001b[0m\u001b[0;34m\u001b[0m\u001b[0m\n\u001b[0m",
            "\u001b[0;31mSessionNotCreatedException\u001b[0m: Message: session not created: Chrome failed to start: exited normally.\n  (session not created: DevToolsActivePort file doesn't exist)\n  (The process started from chrome location /root/.cache/selenium/chrome/linux64/117.0.5938.149/chrome is no longer running, so ChromeDriver is assuming that Chrome has crashed.)\nStacktrace:\n#0 0x57dcdf092933 <unknown>\n#1 0x57dcded6c6f7 <unknown>\n#2 0x57dcded9fa55 <unknown>\n#3 0x57dcded9bbbc <unknown>\n#4 0x57dcdedde77a <unknown>\n#5 0x57dcdedd53d3 <unknown>\n#6 0x57dcdeda7e64 <unknown>\n#7 0x57dcdeda8c4e <unknown>\n#8 0x57dcdf058558 <unknown>\n#9 0x57dcdf05c4a0 <unknown>\n#10 0x57dcdf06697c <unknown>\n#11 0x57dcdf05d0b8 <unknown>\n#12 0x57dcdf028cdf <unknown>\n#13 0x57dcdf081048 <unknown>\n#14 0x57dcdf081219 <unknown>\n#15 0x57dcdf091ac3 <unknown>\n#16 0x7c4fcb94bac3 <unknown>\n"
          ]
        }
      ]
    },
    {
      "cell_type": "markdown",
      "source": [
        "Example 2: Locating Elements"
      ],
      "metadata": {
        "id": "SvBmDMAp2ngO"
      }
    },
    {
      "cell_type": "code",
      "source": [
        "from selenium import webdriver\n",
        "\n",
        "driver = webdriver.Chrome()\n",
        "driver.get(\"https://example.com\")\n",
        "\n",
        "# Locate an element by ID\n",
        "element_by_id = driver.find_element_by_id(\"element_id\")\n",
        "\n",
        "# Locate an element by class name\n",
        "element_by_class = driver.find_element_by_class_name(\"element_class\")\n",
        "\n",
        "# Locate an element by tag name\n",
        "element_by_tag = driver.find_element_by_tag_name(\"element_tag\")\n",
        "\n",
        "# Close the browser\n",
        "driver.quit()\n"
      ],
      "metadata": {
        "id": "-xGdbp912o4J"
      },
      "execution_count": null,
      "outputs": []
    },
    {
      "cell_type": "markdown",
      "source": [
        "Example 3: Interacting with Elements"
      ],
      "metadata": {
        "id": "e_qdn6Lf2v1v"
      }
    },
    {
      "cell_type": "code",
      "source": [
        "from selenium import webdriver\n",
        "\n",
        "driver = webdriver.Chrome()\n",
        "driver.get(\"https://example.com\")\n",
        "\n",
        "# Input text into an input field\n",
        "input_field = driver.find_element_by_name(\"username\")\n",
        "input_field.send_keys(\"your_username\")\n",
        "\n",
        "# Click a button\n",
        "button = driver.find_element_by_id(\"login_button\")\n",
        "button.click()\n",
        "\n",
        "# Close the browser\n",
        "driver.quit()\n"
      ],
      "metadata": {
        "id": "XPBqFo032wpz"
      },
      "execution_count": null,
      "outputs": []
    },
    {
      "cell_type": "markdown",
      "source": [
        "Example 4: Handling Dropdowns"
      ],
      "metadata": {
        "id": "mxXfXQKm2zvM"
      }
    },
    {
      "cell_type": "code",
      "source": [
        "from selenium import webdriver\n",
        "from selenium.webdriver.support.ui import Select\n",
        "\n",
        "driver = webdriver.Chrome()\n",
        "driver.get(\"https://example.com\")\n",
        "\n",
        "# Locate the dropdown element\n",
        "dropdown = Select(driver.find_element_by_id(\"country_dropdown\"))\n",
        "\n",
        "# Select an option by value\n",
        "dropdown.select_by_value(\"USA\")\n",
        "\n",
        "# Close the browser\n",
        "driver.quit()\n"
      ],
      "metadata": {
        "id": "8YhDU_3H225r"
      },
      "execution_count": null,
      "outputs": []
    },
    {
      "cell_type": "markdown",
      "source": [
        "Example 5: Handling Alerts"
      ],
      "metadata": {
        "id": "XsT1tKnt25Be"
      }
    },
    {
      "cell_type": "code",
      "source": [
        "from selenium import webdriver\n",
        "\n",
        "driver = webdriver.Chrome()\n",
        "driver.get(\"https://example.com\")\n",
        "\n",
        "# Click a button to trigger an alert\n",
        "button = driver.find_element_by_id(\"alert_button\")\n",
        "button.click()\n",
        "\n",
        "# Switch to the alert and accept it\n",
        "alert = driver.switch_to.alert\n",
        "alert.accept()\n",
        "\n",
        "# Close the browser\n",
        "driver.quit()\n"
      ],
      "metadata": {
        "id": "nV5hq2PX29iS"
      },
      "execution_count": null,
      "outputs": []
    },
    {
      "cell_type": "markdown",
      "source": [
        "Example 6: Navigating Back and Forward"
      ],
      "metadata": {
        "id": "C1WnuBA63Aih"
      }
    },
    {
      "cell_type": "code",
      "source": [
        "from selenium import webdriver\n",
        "\n",
        "driver = webdriver.Chrome()\n",
        "driver.get(\"https://example.com\")\n",
        "\n",
        "# Navigate to another page\n",
        "driver.get(\"https://example.com/page2\")\n",
        "\n",
        "# Go back to the previous page\n",
        "driver.back()\n",
        "\n",
        "# Go forward\n",
        "driver.forward()\n",
        "\n",
        "# Close the browser\n",
        "driver.quit()\n"
      ],
      "metadata": {
        "id": "mn1Jl8Qb3BRk"
      },
      "execution_count": null,
      "outputs": []
    },
    {
      "cell_type": "markdown",
      "source": [
        "Example 7: Working with Frames"
      ],
      "metadata": {
        "id": "Qn_4_F6W3G4H"
      }
    },
    {
      "cell_type": "code",
      "source": [
        "from selenium import webdriver\n",
        "\n",
        "driver = webdriver.Chrome()\n",
        "driver.get(\"https://example.com\")\n",
        "\n",
        "# Switch to a frame by name or ID\n",
        "driver.switch_to.frame(\"frame_name\")\n",
        "\n",
        "# Switch back to the main content\n",
        "driver.switch_to.default_content()\n",
        "\n",
        "# Close the browser\n",
        "driver.quit()\n"
      ],
      "metadata": {
        "id": "nidkYdgf3HB3"
      },
      "execution_count": null,
      "outputs": []
    },
    {
      "cell_type": "markdown",
      "source": [
        "Example 8: Capturing Screenshots"
      ],
      "metadata": {
        "id": "AocGQ2tx3Ng0"
      }
    },
    {
      "cell_type": "code",
      "source": [
        "from selenium import webdriver\n",
        "\n",
        "driver = webdriver.Chrome()\n",
        "driver.get(\"https://example.com\")\n",
        "\n",
        "# Capture a screenshot\n",
        "driver.save_screenshot(\"screenshot.png\")\n",
        "\n",
        "# Close the browser\n",
        "driver.quit()\n"
      ],
      "metadata": {
        "id": "C99ZZkLh3OaM"
      },
      "execution_count": null,
      "outputs": []
    },
    {
      "cell_type": "markdown",
      "source": [
        "Example 9: Waiting for Elements"
      ],
      "metadata": {
        "id": "cTQV4wqh3RKw"
      }
    },
    {
      "cell_type": "code",
      "source": [
        "from selenium import webdriver\n",
        "from selenium.webdriver.common.by import By\n",
        "from selenium.webdriver.support.ui import WebDriverWait\n",
        "from selenium.webdriver.support import expected_conditions as EC\n",
        "\n",
        "driver = webdriver.Chrome()\n",
        "driver.get(\"https://example.com\")\n",
        "\n",
        "# Wait for an element to be present and visible\n",
        "element = WebDriverWait(driver, 10).until(\n",
        "    EC.presence_of_element_located((By.ID, \"element_id\"))\n",
        ")\n",
        "\n",
        "# Close the browser\n",
        "driver.quit()\n"
      ],
      "metadata": {
        "id": "sCNRwWKd3RU4"
      },
      "execution_count": null,
      "outputs": []
    },
    {
      "cell_type": "markdown",
      "source": [
        "Example 10: Scraping Dynamic Content"
      ],
      "metadata": {
        "id": "NcO6_xrg3YvO"
      }
    },
    {
      "cell_type": "code",
      "source": [
        "from selenium import webdriver\n",
        "\n",
        "driver = webdriver.Chrome()\n",
        "driver.get(\"https://example.com/infinite_scroll_page\")\n",
        "\n",
        "# Scroll down to load dynamic content\n",
        "driver.execute_script(\"window.scrollTo(0, document.body.scrollHeight);\")\n",
        "\n",
        "# Capture the page source after scrolling\n",
        "page_source = driver.page_source\n",
        "\n",
        "# Close the browser\n",
        "driver.quit()\n"
      ],
      "metadata": {
        "id": "mIjQr8733Y55"
      },
      "execution_count": null,
      "outputs": []
    },
    {
      "cell_type": "markdown",
      "source": [],
      "metadata": {
        "id": "YPxA8EMmbcoa"
      }
    }
  ]
}