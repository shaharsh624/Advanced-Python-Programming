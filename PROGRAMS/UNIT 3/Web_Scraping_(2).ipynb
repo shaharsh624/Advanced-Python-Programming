{
 "cells": [
  {
   "cell_type": "markdown",
   "metadata": {
    "id": "bdL0WHxMcQJh"
   },
   "source": [
    "Example 1: Basic HTML Parsing"
   ]
  },
  {
   "cell_type": "code",
   "execution_count": null,
   "metadata": {
    "colab": {
     "base_uri": "https://localhost:8080/"
    },
    "id": "R3jSlbvWbSXT",
    "outputId": "e99e8196-6bb5-42e1-e25b-65d665885af7"
   },
   "outputs": [
    {
     "name": "stdout",
     "output_type": "stream",
     "text": [
      "Title: <title>My Web Page</title>\n",
      "Paragraph: Hello, World!\n"
     ]
    }
   ],
   "source": [
    "from bs4 import BeautifulSoup\n",
    "\n",
    "# Sample HTML content\n",
    "html_content = \"<html><head><title>My Web Page</title></head><body><p>Hello, World!</p></body></html>\"\n",
    "\n",
    "# Parse the HTML\n",
    "soup = BeautifulSoup(html_content, \"html.parser\")\n",
    "\n",
    "# Print the title tag\n",
    "print(\"Title:\", soup.title)\n",
    "\n",
    "# Print the paragraph text\n",
    "print(\"Paragraph:\", soup.p.text)\n"
   ]
  },
  {
   "cell_type": "markdown",
   "metadata": {
    "id": "BZeQVlTOcafB"
   },
   "source": [
    "Example 2: Finding Elements by Tag"
   ]
  },
  {
   "cell_type": "code",
   "execution_count": null,
   "metadata": {
    "colab": {
     "base_uri": "https://localhost:8080/"
    },
    "id": "F8ekvJCMcaGq",
    "outputId": "1565d320-86fa-40d4-e09c-0219e24bd251"
   },
   "outputs": [
    {
     "name": "stdout",
     "output_type": "stream",
     "text": [
      "Item 1\n",
      "Item 2\n",
      "Item 3\n"
     ]
    }
   ],
   "source": [
    "from bs4 import BeautifulSoup\n",
    "\n",
    "# Sample HTML content\n",
    "html_content = \"<ul><li>Item 1</li><li>Item 2</li><li>Item 3</li></ul>\"\n",
    "\n",
    "# Parse the HTML\n",
    "soup = BeautifulSoup(html_content, \"html.parser\")\n",
    "\n",
    "# Find all list items\n",
    "items = soup.find_all(\"li\")\n",
    "\n",
    "# Print each item\n",
    "for item in items:\n",
    "    print(item.text)\n"
   ]
  },
  {
   "cell_type": "markdown",
   "metadata": {
    "id": "T1s5eoSUcb9T"
   },
   "source": [
    "Example 3: Finding Elements by Class"
   ]
  },
  {
   "cell_type": "code",
   "execution_count": null,
   "metadata": {
    "colab": {
     "base_uri": "https://localhost:8080/"
    },
    "id": "VmTRW6mJccW1",
    "outputId": "9967d2fd-ecfe-4aa5-c034-21cdd122ff2a"
   },
   "outputs": [
    {
     "name": "stdout",
     "output_type": "stream",
     "text": [
      "Hello, World!\n"
     ]
    }
   ],
   "source": [
    "from bs4 import BeautifulSoup\n",
    "\n",
    "# Sample HTML content\n",
    "html_content = \"<div class='container'><p class='text'>Hello, World!</p></div>\"\n",
    "\n",
    "# Parse the HTML\n",
    "soup = BeautifulSoup(html_content, \"html.parser\")\n",
    "\n",
    "# Find the paragraph with class 'text'\n",
    "paragraph = soup.find(\"p\", class_=\"text\")\n",
    "\n",
    "# Print the paragraph text\n",
    "print(paragraph.text)\n"
   ]
  },
  {
   "cell_type": "markdown",
   "metadata": {
    "id": "6RWax_yycckD"
   },
   "source": [
    "Example 4: Finding Elements by ID"
   ]
  },
  {
   "cell_type": "code",
   "execution_count": null,
   "metadata": {
    "colab": {
     "base_uri": "https://localhost:8080/"
    },
    "id": "q_eLvmXTccv2",
    "outputId": "33b7f5a6-412d-41ca-ecb4-62b34c05fcbf"
   },
   "outputs": [
    {
     "name": "stdout",
     "output_type": "stream",
     "text": [
      "Hello, World!\n"
     ]
    }
   ],
   "source": [
    "from bs4 import BeautifulSoup\n",
    "\n",
    "# Sample HTML content\n",
    "html_content = \"<div id='content'><p>Hello, World!</p></div>\"\n",
    "\n",
    "# Parse the HTML\n",
    "soup = BeautifulSoup(html_content, \"html.parser\")\n",
    "\n",
    "# Find the div with id 'content'\n",
    "div = soup.find(\"div\", id=\"content\")\n",
    "\n",
    "# Print the paragraph text\n",
    "print(div.p.text)\n"
   ]
  },
  {
   "cell_type": "markdown",
   "metadata": {
    "id": "CdxF4e6dcdu1"
   },
   "source": [
    "Example 5: Navigating the HTML Tree"
   ]
  },
  {
   "cell_type": "code",
   "execution_count": null,
   "metadata": {
    "colab": {
     "base_uri": "https://localhost:8080/"
    },
    "id": "eYjhTN99cd6a",
    "outputId": "d715dbc9-033b-497f-e089-3aaae9e220d3"
   },
   "outputs": [
    {
     "name": "stdout",
     "output_type": "stream",
     "text": [
      "Paragraph 1\n",
      "Paragraph 2\n"
     ]
    }
   ],
   "source": [
    "from bs4 import BeautifulSoup\n",
    "\n",
    "# Sample HTML content\n",
    "html_content = \"<div><p>Paragraph 1</p><p>Paragraph 2</p></div>\"\n",
    "\n",
    "# Parse the HTML\n",
    "soup = BeautifulSoup(html_content, \"html.parser\")\n",
    "\n",
    "# Navigate the HTML tree\n",
    "div = soup.div\n",
    "for p in div.find_all(\"p\"):\n",
    "    print(p.text)\n"
   ]
  },
  {
   "cell_type": "markdown",
   "metadata": {
    "id": "YprhsNVBceEb"
   },
   "source": [
    "Example 6: Extracting Attributes"
   ]
  },
  {
   "cell_type": "code",
   "execution_count": null,
   "metadata": {
    "colab": {
     "base_uri": "https://localhost:8080/"
    },
    "id": "wdN6qvW0ceQL",
    "outputId": "ad00d51d-5c97-4721-b99b-04c7ba3eb95d"
   },
   "outputs": [
    {
     "name": "stdout",
     "output_type": "stream",
     "text": [
      "Link Text: Visit Example\n",
      "Link URL: https://example.com\n"
     ]
    }
   ],
   "source": [
    "from bs4 import BeautifulSoup\n",
    "\n",
    "# Sample HTML content\n",
    "html_content = \"<a href='https://example.com'>Visit Example</a>\"\n",
    "\n",
    "# Parse the HTML\n",
    "soup = BeautifulSoup(html_content, \"html.parser\")\n",
    "\n",
    "# Extract the 'href' attribute\n",
    "link = soup.a\n",
    "print(\"Link Text:\", link.text)\n",
    "print(\"Link URL:\", link[\"href\"])\n"
   ]
  },
  {
   "cell_type": "markdown",
   "metadata": {
    "id": "wgExPHPGceZQ"
   },
   "source": [
    "\n",
    "\n",
    "```\n",
    "Example 7: Web Scraping a Real Website\n",
    "```\n",
    "\n"
   ]
  },
  {
   "cell_type": "code",
   "execution_count": null,
   "metadata": {
    "colab": {
     "base_uri": "https://localhost:8080/"
    },
    "id": "GRU99Ub0cejC",
    "outputId": "25abe5d7-6ea0-4bd2-c984-7062cb3a9483"
   },
   "outputs": [
    {
     "name": "stdout",
     "output_type": "stream",
     "text": [
      "Page Title: Example Domain\n"
     ]
    }
   ],
   "source": [
    "import requests\n",
    "from bs4 import BeautifulSoup\n",
    "\n",
    "# Make an HTTP GET request\n",
    "url = \"https://example.com\"\n",
    "response = requests.get(url)\n",
    "\n",
    "# Parse the HTML\n",
    "soup = BeautifulSoup(response.text, \"html.parser\")\n",
    "\n",
    "# Extract and print the page title\n",
    "title = soup.title\n",
    "print(\"Page Title:\", title.text)\n"
   ]
  },
  {
   "cell_type": "markdown",
   "metadata": {
    "id": "cHpqv9MncesG"
   },
   "source": [
    "Example 8: Scraping Tables\n"
   ]
  },
  {
   "cell_type": "code",
   "execution_count": null,
   "metadata": {
    "colab": {
     "base_uri": "https://localhost:8080/"
    },
    "id": "0OTbQlfEce2c",
    "outputId": "9f6edb3d-2d2e-4685-e4d5-6d700e5bb1f7"
   },
   "outputs": [
    {
     "name": "stdout",
     "output_type": "stream",
     "text": [
      "Name: Alice, Age: 25\n",
      "Name: Bob, Age: 30\n"
     ]
    }
   ],
   "source": [
    "from bs4 import BeautifulSoup\n",
    "\n",
    "# Sample HTML content with a table\n",
    "html_content = \"<table><tr><th>Name</th><th>Age</th></tr><tr><td>Alice</td><td>25</td></tr><tr><td>Bob</td><td>30</td></tr></table>\"\n",
    "\n",
    "# Parse the HTML\n",
    "soup = BeautifulSoup(html_content, \"html.parser\")\n",
    "\n",
    "# Find the table\n",
    "table = soup.find(\"table\")\n",
    "\n",
    "# Extract and print table data\n",
    "for row in table.find_all(\"tr\")[1:]:\n",
    "    columns = row.find_all(\"td\")\n",
    "    name = columns[0].text\n",
    "    age = columns[1].text\n",
    "    print(f\"Name: {name}, Age: {age}\")\n"
   ]
  },
  {
   "cell_type": "markdown",
   "metadata": {
    "id": "wlM7JkATce_A"
   },
   "source": [
    "Example 9: Scraping Images"
   ]
  },
  {
   "cell_type": "code",
   "execution_count": null,
   "metadata": {
    "colab": {
     "base_uri": "https://localhost:8080/"
    },
    "id": "Ks6oD6JZcfIy",
    "outputId": "acf04f36-a9d7-48f7-b02d-bdd6e35d0c09"
   },
   "outputs": [
    {
     "name": "stdout",
     "output_type": "stream",
     "text": [
      "Image Source: https://example.com/image.jpg\n",
      "Image Alt Text: Sample Image\n"
     ]
    }
   ],
   "source": [
    "from bs4 import BeautifulSoup\n",
    "\n",
    "# Sample HTML content with an image\n",
    "html_content = \"<img src='https://example.com/image.jpg' alt='Sample Image'>\"\n",
    "\n",
    "# Parse the HTML\n",
    "soup = BeautifulSoup(html_content, \"html.parser\")\n",
    "\n",
    "# Find the image\n",
    "image = soup.img\n",
    "\n",
    "# Extract and print the image source and alt text\n",
    "src = image[\"src\"]\n",
    "alt = image[\"alt\"]\n",
    "print(\"Image Source:\", src)\n",
    "print(\"Image Alt Text:\", alt)\n"
   ]
  },
  {
   "cell_type": "markdown",
   "metadata": {
    "id": "QFau1u_ocfS0"
   },
   "source": [
    "Example 10: Web Scraping Pagination\n"
   ]
  },
  {
   "cell_type": "code",
   "execution_count": null,
   "metadata": {
    "id": "3d9VnVf3cfcC"
   },
   "outputs": [],
   "source": [
    "import requests\n",
    "from bs4 import BeautifulSoup\n",
    "\n",
    "# Web scraping multiple pages with pagination\n",
    "for page in range(1, 4):  # Assuming there are 3 pages\n",
    "    url = f\"https://example.com/page/{page}\"\n",
    "    response = requests.get(url)\n",
    "    soup = BeautifulSoup(response.text, \"html.parser\")\n",
    "\n",
    "    # Extract and process data from each page\n",
    "    # (e.g., extract items, navigate to the next page)\n",
    "    # Your code here...\n"
   ]
  },
  {
   "cell_type": "markdown",
   "metadata": {
    "id": "7FYHJODg2VWr"
   },
   "source": [
    "## Celinium web scraping library"
   ]
  },
  {
   "cell_type": "markdown",
   "metadata": {
    "id": "TXV-G4w02gQU"
   },
   "source": [
    "Example 1: Opening a Web Page"
   ]
  },
  {
   "cell_type": "code",
   "execution_count": null,
   "metadata": {
    "colab": {
     "base_uri": "https://localhost:8080/"
    },
    "id": "oUN_AiQh3jAI",
    "outputId": "7129f608-8be3-40dd-d24a-ab4048018db5"
   },
   "outputs": [
    {
     "name": "stdout",
     "output_type": "stream",
     "text": [
      "Collecting selenium\n",
      "  Downloading selenium-4.15.2-py3-none-any.whl.metadata (6.9 kB)\n",
      "Requirement already satisfied: urllib3<3,>=1.26 in c:\\users\\harsh\\appdata\\local\\programs\\python\\python312\\lib\\site-packages (from urllib3[socks]<3,>=1.26->selenium) (2.0.7)\n",
      "Collecting trio~=0.17 (from selenium)\n",
      "  Downloading trio-0.23.1-py3-none-any.whl.metadata (4.9 kB)\n",
      "Collecting trio-websocket~=0.9 (from selenium)\n",
      "  Downloading trio_websocket-0.11.1-py3-none-any.whl.metadata (4.7 kB)\n",
      "Requirement already satisfied: certifi>=2021.10.8 in c:\\users\\harsh\\appdata\\local\\programs\\python\\python312\\lib\\site-packages (from selenium) (2023.7.22)\n",
      "Requirement already satisfied: attrs>=20.1.0 in c:\\users\\harsh\\appdata\\local\\programs\\python\\python312\\lib\\site-packages (from trio~=0.17->selenium) (23.1.0)\n",
      "Collecting sortedcontainers (from trio~=0.17->selenium)\n",
      "  Downloading sortedcontainers-2.4.0-py2.py3-none-any.whl (29 kB)\n",
      "Requirement already satisfied: idna in c:\\users\\harsh\\appdata\\local\\programs\\python\\python312\\lib\\site-packages (from trio~=0.17->selenium) (3.4)\n",
      "Collecting outcome (from trio~=0.17->selenium)\n",
      "  Downloading outcome-1.3.0.post0-py2.py3-none-any.whl.metadata (2.6 kB)\n",
      "Requirement already satisfied: sniffio>=1.3.0 in c:\\users\\harsh\\appdata\\local\\programs\\python\\python312\\lib\\site-packages (from trio~=0.17->selenium) (1.3.0)\n",
      "Requirement already satisfied: cffi>=1.14 in c:\\users\\harsh\\appdata\\local\\programs\\python\\python312\\lib\\site-packages (from trio~=0.17->selenium) (1.16.0)\n",
      "Requirement already satisfied: wsproto>=0.14 in c:\\users\\harsh\\appdata\\local\\programs\\python\\python312\\lib\\site-packages (from trio-websocket~=0.9->selenium) (1.2.0)\n",
      "Collecting pysocks!=1.5.7,<2.0,>=1.5.6 (from urllib3[socks]<3,>=1.26->selenium)\n",
      "  Downloading PySocks-1.7.1-py3-none-any.whl (16 kB)\n",
      "Requirement already satisfied: pycparser in c:\\users\\harsh\\appdata\\local\\programs\\python\\python312\\lib\\site-packages (from cffi>=1.14->trio~=0.17->selenium) (2.21)\n",
      "Requirement already satisfied: h11<1,>=0.9.0 in c:\\users\\harsh\\appdata\\local\\programs\\python\\python312\\lib\\site-packages (from wsproto>=0.14->trio-websocket~=0.9->selenium) (0.14.0)\n",
      "Downloading selenium-4.15.2-py3-none-any.whl (10.2 MB)\n",
      "   ---------------------------------------- 0.0/10.2 MB ? eta -:--:--\n",
      "   ---------------------------------------- 0.1/10.2 MB 4.1 MB/s eta 0:00:03\n",
      "   - -------------------------------------- 0.4/10.2 MB 5.4 MB/s eta 0:00:02\n",
      "   -- ------------------------------------- 0.7/10.2 MB 5.2 MB/s eta 0:00:02\n",
      "   --- ------------------------------------ 1.0/10.2 MB 6.2 MB/s eta 0:00:02\n",
      "   ----- ---------------------------------- 1.3/10.2 MB 6.1 MB/s eta 0:00:02\n",
      "   ------- -------------------------------- 1.8/10.2 MB 6.9 MB/s eta 0:00:02\n",
      "   -------- ------------------------------- 2.1/10.2 MB 6.9 MB/s eta 0:00:02\n",
      "   ---------- ----------------------------- 2.6/10.2 MB 7.3 MB/s eta 0:00:02\n",
      "   ------------ --------------------------- 3.1/10.2 MB 7.6 MB/s eta 0:00:01\n",
      "   ------------- -------------------------- 3.5/10.2 MB 7.8 MB/s eta 0:00:01\n",
      "   --------------- ------------------------ 4.0/10.2 MB 8.0 MB/s eta 0:00:01\n",
      "   ----------------- ---------------------- 4.6/10.2 MB 8.3 MB/s eta 0:00:01\n",
      "   -------------------- ------------------- 5.1/10.2 MB 8.6 MB/s eta 0:00:01\n",
      "   --------------------- ------------------ 5.5/10.2 MB 8.8 MB/s eta 0:00:01\n",
      "   ----------------------- ---------------- 5.9/10.2 MB 8.6 MB/s eta 0:00:01\n",
      "   ------------------------ --------------- 6.3/10.2 MB 8.5 MB/s eta 0:00:01\n",
      "   -------------------------- ------------- 6.7/10.2 MB 8.6 MB/s eta 0:00:01\n",
      "   ---------------------------- ----------- 7.2/10.2 MB 8.6 MB/s eta 0:00:01\n",
      "   ----------------------------- ---------- 7.5/10.2 MB 8.6 MB/s eta 0:00:01\n",
      "   ------------------------------- -------- 8.0/10.2 MB 8.7 MB/s eta 0:00:01\n",
      "   --------------------------------- ------ 8.6/10.2 MB 8.9 MB/s eta 0:00:01\n",
      "   --------------------------------- ------ 8.6/10.2 MB 8.9 MB/s eta 0:00:01\n",
      "   ----------------------------------- ---- 9.0/10.2 MB 8.6 MB/s eta 0:00:01\n",
      "   ------------------------------------ --- 9.4/10.2 MB 8.3 MB/s eta 0:00:01\n",
      "   -------------------------------------- - 9.7/10.2 MB 8.4 MB/s eta 0:00:01\n",
      "   ---------------------------------------  10.2/10.2 MB 8.3 MB/s eta 0:00:01\n",
      "   ---------------------------------------- 10.2/10.2 MB 8.1 MB/s eta 0:00:00\n",
      "Downloading trio-0.23.1-py3-none-any.whl (448 kB)\n",
      "   ---------------------------------------- 0.0/448.3 kB ? eta -:--:--\n",
      "   ---------------------- ----------------- 256.0/448.3 kB 7.9 MB/s eta 0:00:01\n",
      "   ---------------------------------------- 448.3/448.3 kB 9.3 MB/s eta 0:00:00\n",
      "Downloading trio_websocket-0.11.1-py3-none-any.whl (17 kB)\n",
      "Downloading outcome-1.3.0.post0-py2.py3-none-any.whl (10 kB)\n",
      "Installing collected packages: sortedcontainers, pysocks, outcome, trio, trio-websocket, selenium\n",
      "Successfully installed outcome-1.3.0.post0 pysocks-1.7.1 selenium-4.15.2 sortedcontainers-2.4.0 trio-0.23.1 trio-websocket-0.11.1\n"
     ]
    }
   ],
   "source": [
    "%pip install selenium"
   ]
  },
  {
   "cell_type": "code",
   "execution_count": 4,
   "metadata": {
    "colab": {
     "base_uri": "https://localhost:8080/",
     "height": 789
    },
    "id": "MX0yrS8n2UIs",
    "outputId": "441daec3-c7f6-43d9-bff2-5f8cdab74d35"
   },
   "outputs": [],
   "source": [
    "from selenium import webdriver\n",
    "\n",
    "# Initialize the WebDriver\n",
    "driver = webdriver.Chrome()  # or webdriver.Firefox() for Firefox\n",
    "\n",
    "# Navigate to a website\n",
    "driver.get(\"https://www.indiatoday.in/\")\n",
    "\n",
    "# Close the browser\n",
    "driver.quit()\n"
   ]
  },
  {
   "cell_type": "markdown",
   "metadata": {
    "id": "SvBmDMAp2ngO"
   },
   "source": [
    "Example 2: Locating Elements"
   ]
  },
  {
   "cell_type": "code",
   "execution_count": 1,
   "metadata": {
    "id": "-xGdbp912o4J"
   },
   "outputs": [
    {
     "ename": "KeyboardInterrupt",
     "evalue": "",
     "output_type": "error",
     "traceback": [
      "\u001b[1;31m---------------------------------------------------------------------------\u001b[0m",
      "\u001b[1;31mKeyboardInterrupt\u001b[0m                         Traceback (most recent call last)",
      "\u001b[1;32mc:\\Users\\harsh\\OneDrive - pdpu.ac.in\\HARSH\\_STUDY MATERIAL\\SEM 5\\Advanced Python Programming\\PROGRAMS\\UNIT 3\\Web_Scraping_(2).ipynb Cell 26\u001b[0m line \u001b[0;36m3\n\u001b[0;32m      <a href='vscode-notebook-cell:/c%3A/Users/harsh/OneDrive%20-%20pdpu.ac.in/HARSH/_STUDY%20MATERIAL/SEM%205/Advanced%20Python%20Programming/PROGRAMS/UNIT%203/Web_Scraping_%282%29.ipynb#X34sZmlsZQ%3D%3D?line=0'>1</a>\u001b[0m \u001b[39mfrom\u001b[39;00m \u001b[39mselenium\u001b[39;00m \u001b[39mimport\u001b[39;00m webdriver\n\u001b[1;32m----> <a href='vscode-notebook-cell:/c%3A/Users/harsh/OneDrive%20-%20pdpu.ac.in/HARSH/_STUDY%20MATERIAL/SEM%205/Advanced%20Python%20Programming/PROGRAMS/UNIT%203/Web_Scraping_%282%29.ipynb#X34sZmlsZQ%3D%3D?line=2'>3</a>\u001b[0m driver \u001b[39m=\u001b[39m webdriver\u001b[39m.\u001b[39;49mChrome()\n\u001b[0;32m      <a href='vscode-notebook-cell:/c%3A/Users/harsh/OneDrive%20-%20pdpu.ac.in/HARSH/_STUDY%20MATERIAL/SEM%205/Advanced%20Python%20Programming/PROGRAMS/UNIT%203/Web_Scraping_%282%29.ipynb#X34sZmlsZQ%3D%3D?line=3'>4</a>\u001b[0m driver\u001b[39m.\u001b[39mget(\u001b[39m\"\u001b[39m\u001b[39mhttps://example.com\u001b[39m\u001b[39m\"\u001b[39m)\n\u001b[0;32m      <a href='vscode-notebook-cell:/c%3A/Users/harsh/OneDrive%20-%20pdpu.ac.in/HARSH/_STUDY%20MATERIAL/SEM%205/Advanced%20Python%20Programming/PROGRAMS/UNIT%203/Web_Scraping_%282%29.ipynb#X34sZmlsZQ%3D%3D?line=5'>6</a>\u001b[0m \u001b[39m# Locate an element by ID\u001b[39;00m\n",
      "File \u001b[1;32mc:\\Users\\harsh\\AppData\\Local\\Programs\\Python\\Python310\\lib\\site-packages\\selenium\\webdriver\\chrome\\webdriver.py:45\u001b[0m, in \u001b[0;36mWebDriver.__init__\u001b[1;34m(self, options, service, keep_alive)\u001b[0m\n\u001b[0;32m     42\u001b[0m service \u001b[39m=\u001b[39m service \u001b[39mif\u001b[39;00m service \u001b[39melse\u001b[39;00m Service()\n\u001b[0;32m     43\u001b[0m options \u001b[39m=\u001b[39m options \u001b[39mif\u001b[39;00m options \u001b[39melse\u001b[39;00m Options()\n\u001b[1;32m---> 45\u001b[0m \u001b[39msuper\u001b[39;49m()\u001b[39m.\u001b[39;49m\u001b[39m__init__\u001b[39;49m(\n\u001b[0;32m     46\u001b[0m     DesiredCapabilities\u001b[39m.\u001b[39;49mCHROME[\u001b[39m\"\u001b[39;49m\u001b[39mbrowserName\u001b[39;49m\u001b[39m\"\u001b[39;49m],\n\u001b[0;32m     47\u001b[0m     \u001b[39m\"\u001b[39;49m\u001b[39mgoog\u001b[39;49m\u001b[39m\"\u001b[39;49m,\n\u001b[0;32m     48\u001b[0m     options,\n\u001b[0;32m     49\u001b[0m     service,\n\u001b[0;32m     50\u001b[0m     keep_alive,\n\u001b[0;32m     51\u001b[0m )\n",
      "File \u001b[1;32mc:\\Users\\harsh\\AppData\\Local\\Programs\\Python\\Python310\\lib\\site-packages\\selenium\\webdriver\\chromium\\webdriver.py:51\u001b[0m, in \u001b[0;36mChromiumDriver.__init__\u001b[1;34m(self, browser_name, vendor_prefix, options, service, keep_alive)\u001b[0m\n\u001b[0;32m     47\u001b[0m \u001b[39mself\u001b[39m\u001b[39m.\u001b[39mvendor_prefix \u001b[39m=\u001b[39m vendor_prefix\n\u001b[0;32m     49\u001b[0m \u001b[39mself\u001b[39m\u001b[39m.\u001b[39mservice \u001b[39m=\u001b[39m service\n\u001b[1;32m---> 51\u001b[0m \u001b[39mself\u001b[39m\u001b[39m.\u001b[39mservice\u001b[39m.\u001b[39mpath \u001b[39m=\u001b[39m DriverFinder\u001b[39m.\u001b[39;49mget_path(\u001b[39mself\u001b[39;49m\u001b[39m.\u001b[39;49mservice, options)\n\u001b[0;32m     53\u001b[0m \u001b[39mself\u001b[39m\u001b[39m.\u001b[39mservice\u001b[39m.\u001b[39mstart()\n\u001b[0;32m     55\u001b[0m \u001b[39mtry\u001b[39;00m:\n",
      "File \u001b[1;32mc:\\Users\\harsh\\AppData\\Local\\Programs\\Python\\Python310\\lib\\site-packages\\selenium\\webdriver\\common\\driver_finder.py:38\u001b[0m, in \u001b[0;36mDriverFinder.get_path\u001b[1;34m(service, options)\u001b[0m\n\u001b[0;32m     36\u001b[0m path \u001b[39m=\u001b[39m service\u001b[39m.\u001b[39mpath\n\u001b[0;32m     37\u001b[0m \u001b[39mtry\u001b[39;00m:\n\u001b[1;32m---> 38\u001b[0m     path \u001b[39m=\u001b[39m SeleniumManager()\u001b[39m.\u001b[39;49mdriver_location(options) \u001b[39mif\u001b[39;00m path \u001b[39mis\u001b[39;00m \u001b[39mNone\u001b[39;00m \u001b[39melse\u001b[39;00m path\n\u001b[0;32m     39\u001b[0m \u001b[39mexcept\u001b[39;00m \u001b[39mException\u001b[39;00m \u001b[39mas\u001b[39;00m err:\n\u001b[0;32m     40\u001b[0m     msg \u001b[39m=\u001b[39m \u001b[39mf\u001b[39m\u001b[39m\"\u001b[39m\u001b[39mUnable to obtain driver for \u001b[39m\u001b[39m{\u001b[39;00moptions\u001b[39m.\u001b[39mcapabilities[\u001b[39m'\u001b[39m\u001b[39mbrowserName\u001b[39m\u001b[39m'\u001b[39m]\u001b[39m}\u001b[39;00m\u001b[39m using Selenium Manager.\u001b[39m\u001b[39m\"\u001b[39m\n",
      "File \u001b[1;32mc:\\Users\\harsh\\AppData\\Local\\Programs\\Python\\Python310\\lib\\site-packages\\selenium\\webdriver\\common\\selenium_manager.py:90\u001b[0m, in \u001b[0;36mSeleniumManager.driver_location\u001b[1;34m(self, options)\u001b[0m\n\u001b[0;32m     87\u001b[0m     value \u001b[39m=\u001b[39m proxy\u001b[39m.\u001b[39mssl_proxy \u001b[39mif\u001b[39;00m proxy\u001b[39m.\u001b[39mssl_proxy \u001b[39melse\u001b[39;00m proxy\u001b[39m.\u001b[39mhttp_proxy\n\u001b[0;32m     88\u001b[0m     args\u001b[39m.\u001b[39mappend(value)\n\u001b[1;32m---> 90\u001b[0m output \u001b[39m=\u001b[39m \u001b[39mself\u001b[39;49m\u001b[39m.\u001b[39;49mrun(args)\n\u001b[0;32m     92\u001b[0m browser_path \u001b[39m=\u001b[39m output[\u001b[39m\"\u001b[39m\u001b[39mbrowser_path\u001b[39m\u001b[39m\"\u001b[39m]\n\u001b[0;32m     93\u001b[0m driver_path \u001b[39m=\u001b[39m output[\u001b[39m\"\u001b[39m\u001b[39mdriver_path\u001b[39m\u001b[39m\"\u001b[39m]\n",
      "File \u001b[1;32mc:\\Users\\harsh\\AppData\\Local\\Programs\\Python\\Python310\\lib\\site-packages\\selenium\\webdriver\\common\\selenium_manager.py:119\u001b[0m, in \u001b[0;36mSeleniumManager.run\u001b[1;34m(args)\u001b[0m\n\u001b[0;32m    117\u001b[0m \u001b[39mtry\u001b[39;00m:\n\u001b[0;32m    118\u001b[0m     \u001b[39mif\u001b[39;00m sys\u001b[39m.\u001b[39mplatform \u001b[39m==\u001b[39m \u001b[39m\"\u001b[39m\u001b[39mwin32\u001b[39m\u001b[39m\"\u001b[39m:\n\u001b[1;32m--> 119\u001b[0m         completed_proc \u001b[39m=\u001b[39m subprocess\u001b[39m.\u001b[39;49mrun(\n\u001b[0;32m    120\u001b[0m             args, stdout\u001b[39m=\u001b[39;49msubprocess\u001b[39m.\u001b[39;49mPIPE, stderr\u001b[39m=\u001b[39;49msubprocess\u001b[39m.\u001b[39;49mPIPE, creationflags\u001b[39m=\u001b[39;49msubprocess\u001b[39m.\u001b[39;49mCREATE_NO_WINDOW\n\u001b[0;32m    121\u001b[0m         )\n\u001b[0;32m    122\u001b[0m     \u001b[39melse\u001b[39;00m:\n\u001b[0;32m    123\u001b[0m         completed_proc \u001b[39m=\u001b[39m subprocess\u001b[39m.\u001b[39mrun(args, stdout\u001b[39m=\u001b[39msubprocess\u001b[39m.\u001b[39mPIPE, stderr\u001b[39m=\u001b[39msubprocess\u001b[39m.\u001b[39mPIPE)\n",
      "File \u001b[1;32mc:\\Users\\harsh\\AppData\\Local\\Programs\\Python\\Python310\\lib\\subprocess.py:503\u001b[0m, in \u001b[0;36mrun\u001b[1;34m(input, capture_output, timeout, check, *popenargs, **kwargs)\u001b[0m\n\u001b[0;32m    501\u001b[0m \u001b[39mwith\u001b[39;00m Popen(\u001b[39m*\u001b[39mpopenargs, \u001b[39m*\u001b[39m\u001b[39m*\u001b[39mkwargs) \u001b[39mas\u001b[39;00m process:\n\u001b[0;32m    502\u001b[0m     \u001b[39mtry\u001b[39;00m:\n\u001b[1;32m--> 503\u001b[0m         stdout, stderr \u001b[39m=\u001b[39m process\u001b[39m.\u001b[39;49mcommunicate(\u001b[39minput\u001b[39;49m, timeout\u001b[39m=\u001b[39;49mtimeout)\n\u001b[0;32m    504\u001b[0m     \u001b[39mexcept\u001b[39;00m TimeoutExpired \u001b[39mas\u001b[39;00m exc:\n\u001b[0;32m    505\u001b[0m         process\u001b[39m.\u001b[39mkill()\n",
      "File \u001b[1;32mc:\\Users\\harsh\\AppData\\Local\\Programs\\Python\\Python310\\lib\\subprocess.py:1152\u001b[0m, in \u001b[0;36mPopen.communicate\u001b[1;34m(self, input, timeout)\u001b[0m\n\u001b[0;32m   1149\u001b[0m     endtime \u001b[39m=\u001b[39m \u001b[39mNone\u001b[39;00m\n\u001b[0;32m   1151\u001b[0m \u001b[39mtry\u001b[39;00m:\n\u001b[1;32m-> 1152\u001b[0m     stdout, stderr \u001b[39m=\u001b[39m \u001b[39mself\u001b[39;49m\u001b[39m.\u001b[39;49m_communicate(\u001b[39minput\u001b[39;49m, endtime, timeout)\n\u001b[0;32m   1153\u001b[0m \u001b[39mexcept\u001b[39;00m \u001b[39mKeyboardInterrupt\u001b[39;00m:\n\u001b[0;32m   1154\u001b[0m     \u001b[39m# https://bugs.python.org/issue25942\u001b[39;00m\n\u001b[0;32m   1155\u001b[0m     \u001b[39m# See the detailed comment in .wait().\u001b[39;00m\n\u001b[0;32m   1156\u001b[0m     \u001b[39mif\u001b[39;00m timeout \u001b[39mis\u001b[39;00m \u001b[39mnot\u001b[39;00m \u001b[39mNone\u001b[39;00m:\n",
      "File \u001b[1;32mc:\\Users\\harsh\\AppData\\Local\\Programs\\Python\\Python310\\lib\\subprocess.py:1526\u001b[0m, in \u001b[0;36mPopen._communicate\u001b[1;34m(self, input, endtime, orig_timeout)\u001b[0m\n\u001b[0;32m   1522\u001b[0m \u001b[39m# Wait for the reader threads, or time out.  If we time out, the\u001b[39;00m\n\u001b[0;32m   1523\u001b[0m \u001b[39m# threads remain reading and the fds left open in case the user\u001b[39;00m\n\u001b[0;32m   1524\u001b[0m \u001b[39m# calls communicate again.\u001b[39;00m\n\u001b[0;32m   1525\u001b[0m \u001b[39mif\u001b[39;00m \u001b[39mself\u001b[39m\u001b[39m.\u001b[39mstdout \u001b[39mis\u001b[39;00m \u001b[39mnot\u001b[39;00m \u001b[39mNone\u001b[39;00m:\n\u001b[1;32m-> 1526\u001b[0m     \u001b[39mself\u001b[39;49m\u001b[39m.\u001b[39;49mstdout_thread\u001b[39m.\u001b[39;49mjoin(\u001b[39mself\u001b[39;49m\u001b[39m.\u001b[39;49m_remaining_time(endtime))\n\u001b[0;32m   1527\u001b[0m     \u001b[39mif\u001b[39;00m \u001b[39mself\u001b[39m\u001b[39m.\u001b[39mstdout_thread\u001b[39m.\u001b[39mis_alive():\n\u001b[0;32m   1528\u001b[0m         \u001b[39mraise\u001b[39;00m TimeoutExpired(\u001b[39mself\u001b[39m\u001b[39m.\u001b[39margs, orig_timeout)\n",
      "File \u001b[1;32mc:\\Users\\harsh\\AppData\\Local\\Programs\\Python\\Python310\\lib\\threading.py:1096\u001b[0m, in \u001b[0;36mThread.join\u001b[1;34m(self, timeout)\u001b[0m\n\u001b[0;32m   1093\u001b[0m     \u001b[39mraise\u001b[39;00m \u001b[39mRuntimeError\u001b[39;00m(\u001b[39m\"\u001b[39m\u001b[39mcannot join current thread\u001b[39m\u001b[39m\"\u001b[39m)\n\u001b[0;32m   1095\u001b[0m \u001b[39mif\u001b[39;00m timeout \u001b[39mis\u001b[39;00m \u001b[39mNone\u001b[39;00m:\n\u001b[1;32m-> 1096\u001b[0m     \u001b[39mself\u001b[39;49m\u001b[39m.\u001b[39;49m_wait_for_tstate_lock()\n\u001b[0;32m   1097\u001b[0m \u001b[39melse\u001b[39;00m:\n\u001b[0;32m   1098\u001b[0m     \u001b[39m# the behavior of a negative timeout isn't documented, but\u001b[39;00m\n\u001b[0;32m   1099\u001b[0m     \u001b[39m# historically .join(timeout=x) for x<0 has acted as if timeout=0\u001b[39;00m\n\u001b[0;32m   1100\u001b[0m     \u001b[39mself\u001b[39m\u001b[39m.\u001b[39m_wait_for_tstate_lock(timeout\u001b[39m=\u001b[39m\u001b[39mmax\u001b[39m(timeout, \u001b[39m0\u001b[39m))\n",
      "File \u001b[1;32mc:\\Users\\harsh\\AppData\\Local\\Programs\\Python\\Python310\\lib\\threading.py:1116\u001b[0m, in \u001b[0;36mThread._wait_for_tstate_lock\u001b[1;34m(self, block, timeout)\u001b[0m\n\u001b[0;32m   1113\u001b[0m     \u001b[39mreturn\u001b[39;00m\n\u001b[0;32m   1115\u001b[0m \u001b[39mtry\u001b[39;00m:\n\u001b[1;32m-> 1116\u001b[0m     \u001b[39mif\u001b[39;00m lock\u001b[39m.\u001b[39;49macquire(block, timeout):\n\u001b[0;32m   1117\u001b[0m         lock\u001b[39m.\u001b[39mrelease()\n\u001b[0;32m   1118\u001b[0m         \u001b[39mself\u001b[39m\u001b[39m.\u001b[39m_stop()\n",
      "\u001b[1;31mKeyboardInterrupt\u001b[0m: "
     ]
    }
   ],
   "source": [
    "from selenium import webdriver\n",
    "\n",
    "driver = webdriver.Chrome()\n",
    "driver.get(\"https://example.com\")\n",
    "\n",
    "# Locate an element by ID\n",
    "element_by_id = driver.findElement(By.className(\"tomatoes\"));\n",
    "\n",
    "# Locate an element by class name\n",
    "element_by_class = driver.find_element_by_class_name(\"element_class\")\n",
    "\n",
    "# Locate an element by tag name\n",
    "element_by_tag = driver.find_element_by_tag_name(\"element_tag\")\n",
    "\n",
    "# Close the browser\n",
    "driver.quit()\n"
   ]
  },
  {
   "cell_type": "markdown",
   "metadata": {
    "id": "e_qdn6Lf2v1v"
   },
   "source": [
    "Example 3: Interacting with Elements"
   ]
  },
  {
   "cell_type": "code",
   "execution_count": null,
   "metadata": {
    "id": "XPBqFo032wpz"
   },
   "outputs": [],
   "source": [
    "from selenium import webdriver\n",
    "\n",
    "driver = webdriver.Chrome()\n",
    "driver.get(\"https://example.com\")\n",
    "\n",
    "# Input text into an input field\n",
    "input_field = driver.find_element_by_name(\"username\")\n",
    "input_field.send_keys(\"your_username\")\n",
    "\n",
    "# Click a button\n",
    "button = driver.find_element_by_id(\"login_button\")\n",
    "button.click()\n",
    "\n",
    "# Close the browser\n",
    "driver.quit()\n"
   ]
  },
  {
   "cell_type": "markdown",
   "metadata": {
    "id": "mxXfXQKm2zvM"
   },
   "source": [
    "Example 4: Handling Dropdowns"
   ]
  },
  {
   "cell_type": "code",
   "execution_count": 1,
   "metadata": {
    "id": "8YhDU_3H225r"
   },
   "outputs": [
    {
     "ename": "ModuleNotFoundError",
     "evalue": "No module named 'selenium'",
     "output_type": "error",
     "traceback": [
      "\u001b[1;31m---------------------------------------------------------------------------\u001b[0m",
      "\u001b[1;31mModuleNotFoundError\u001b[0m                       Traceback (most recent call last)",
      "Cell \u001b[1;32mIn[1], line 1\u001b[0m\n\u001b[1;32m----> 1\u001b[0m \u001b[38;5;28;01mfrom\u001b[39;00m \u001b[38;5;21;01mselenium\u001b[39;00m \u001b[38;5;28;01mimport\u001b[39;00m webdriver\n\u001b[0;32m      2\u001b[0m \u001b[38;5;28;01mfrom\u001b[39;00m \u001b[38;5;21;01mselenium\u001b[39;00m\u001b[38;5;21;01m.\u001b[39;00m\u001b[38;5;21;01mwebdriver\u001b[39;00m\u001b[38;5;21;01m.\u001b[39;00m\u001b[38;5;21;01msupport\u001b[39;00m\u001b[38;5;21;01m.\u001b[39;00m\u001b[38;5;21;01mui\u001b[39;00m \u001b[38;5;28;01mimport\u001b[39;00m Select\n\u001b[0;32m      4\u001b[0m driver \u001b[38;5;241m=\u001b[39m webdriver\u001b[38;5;241m.\u001b[39mChrome()\n",
      "\u001b[1;31mModuleNotFoundError\u001b[0m: No module named 'selenium'"
     ]
    }
   ],
   "source": [
    "from selenium import webdriver\n",
    "from selenium.webdriver.support.ui import Select\n",
    "\n",
    "driver = webdriver.Chrome()\n",
    "driver.get(\"https://example.com\")\n",
    "\n",
    "# Locate the dropdown element\n",
    "dropdown = Select(driver.find_element_by_id(\"country_dropdown\"))\n",
    "\n",
    "# Select an option by value\n",
    "dropdown.select_by_value(\"USA\")\n",
    "\n",
    "# Close the browser\n",
    "driver.quit()\n"
   ]
  },
  {
   "cell_type": "markdown",
   "metadata": {
    "id": "XsT1tKnt25Be"
   },
   "source": [
    "Example 5: Handling Alerts"
   ]
  },
  {
   "cell_type": "code",
   "execution_count": null,
   "metadata": {
    "id": "nV5hq2PX29iS"
   },
   "outputs": [],
   "source": [
    "from selenium import webdriver\n",
    "\n",
    "driver = webdriver.Chrome()\n",
    "driver.get(\"https://example.com\")\n",
    "\n",
    "# Click a button to trigger an alert\n",
    "button = driver.find_element_by_id(\"alert_button\")\n",
    "button.click()\n",
    "\n",
    "# Switch to the alert and accept it\n",
    "alert = driver.switch_to.alert\n",
    "alert.accept()\n",
    "\n",
    "# Close the browser\n",
    "driver.quit()\n"
   ]
  },
  {
   "cell_type": "markdown",
   "metadata": {
    "id": "C1WnuBA63Aih"
   },
   "source": [
    "Example 6: Navigating Back and Forward"
   ]
  },
  {
   "cell_type": "code",
   "execution_count": null,
   "metadata": {
    "id": "mn1Jl8Qb3BRk"
   },
   "outputs": [],
   "source": [
    "from selenium import webdriver\n",
    "\n",
    "driver = webdriver.Chrome()\n",
    "driver.get(\"https://example.com\")\n",
    "\n",
    "# Navigate to another page\n",
    "driver.get(\"https://example.com/page2\")\n",
    "\n",
    "# Go back to the previous page\n",
    "driver.back()\n",
    "\n",
    "# Go forward\n",
    "driver.forward()\n",
    "\n",
    "# Close the browser\n",
    "driver.quit()\n"
   ]
  },
  {
   "cell_type": "markdown",
   "metadata": {
    "id": "Qn_4_F6W3G4H"
   },
   "source": [
    "Example 7: Working with Frames"
   ]
  },
  {
   "cell_type": "code",
   "execution_count": null,
   "metadata": {
    "id": "nidkYdgf3HB3"
   },
   "outputs": [],
   "source": [
    "from selenium import webdriver\n",
    "\n",
    "driver = webdriver.Chrome()\n",
    "driver.get(\"https://example.com\")\n",
    "\n",
    "# Switch to a frame by name or ID\n",
    "driver.switch_to.frame(\"frame_name\")\n",
    "\n",
    "# Switch back to the main content\n",
    "driver.switch_to.default_content()\n",
    "\n",
    "# Close the browser\n",
    "driver.quit()\n"
   ]
  },
  {
   "cell_type": "markdown",
   "metadata": {
    "id": "AocGQ2tx3Ng0"
   },
   "source": [
    "Example 8: Capturing Screenshots"
   ]
  },
  {
   "cell_type": "code",
   "execution_count": null,
   "metadata": {
    "id": "C99ZZkLh3OaM"
   },
   "outputs": [],
   "source": [
    "from selenium import webdriver\n",
    "\n",
    "driver = webdriver.Chrome()\n",
    "driver.get(\"https://example.com\")\n",
    "\n",
    "# Capture a screenshot\n",
    "driver.save_screenshot(\"screenshot.png\")\n",
    "\n",
    "# Close the browser\n",
    "driver.quit()\n"
   ]
  },
  {
   "cell_type": "markdown",
   "metadata": {
    "id": "cTQV4wqh3RKw"
   },
   "source": [
    "Example 9: Waiting for Elements"
   ]
  },
  {
   "cell_type": "code",
   "execution_count": null,
   "metadata": {
    "id": "sCNRwWKd3RU4"
   },
   "outputs": [],
   "source": [
    "from selenium import webdriver\n",
    "from selenium.webdriver.common.by import By\n",
    "from selenium.webdriver.support.ui import WebDriverWait\n",
    "from selenium.webdriver.support import expected_conditions as EC\n",
    "\n",
    "driver = webdriver.Chrome()\n",
    "driver.get(\"https://example.com\")\n",
    "\n",
    "# Wait for an element to be present and visible\n",
    "element = WebDriverWait(driver, 10).until(\n",
    "    EC.presence_of_element_located((By.ID, \"element_id\"))\n",
    ")\n",
    "\n",
    "# Close the browser\n",
    "driver.quit()\n"
   ]
  },
  {
   "cell_type": "markdown",
   "metadata": {
    "id": "NcO6_xrg3YvO"
   },
   "source": [
    "Example 10: Scraping Dynamic Content"
   ]
  },
  {
   "cell_type": "code",
   "execution_count": null,
   "metadata": {
    "id": "mIjQr8733Y55"
   },
   "outputs": [],
   "source": [
    "from selenium import webdriver\n",
    "\n",
    "driver = webdriver.Chrome()\n",
    "driver.get(\"https://example.com/infinite_scroll_page\")\n",
    "\n",
    "# Scroll down to load dynamic content\n",
    "driver.execute_script(\"window.scrollTo(0, document.body.scrollHeight);\")\n",
    "\n",
    "# Capture the page source after scrolling\n",
    "page_source = driver.page_source\n",
    "\n",
    "# Close the browser\n",
    "driver.quit()\n"
   ]
  },
  {
   "cell_type": "markdown",
   "metadata": {
    "id": "YPxA8EMmbcoa"
   },
   "source": []
  }
 ],
 "metadata": {
  "colab": {
   "provenance": []
  },
  "kernelspec": {
   "display_name": "Python 3 (ipykernel)",
   "language": "python",
   "name": "python3"
  },
  "language_info": {
   "codemirror_mode": {
    "name": "ipython",
    "version": 3
   },
   "file_extension": ".py",
   "mimetype": "text/x-python",
   "name": "python",
   "nbconvert_exporter": "python",
   "pygments_lexer": "ipython3",
   "version": "3.10.6"
  }
 },
 "nbformat": 4,
 "nbformat_minor": 4
}
