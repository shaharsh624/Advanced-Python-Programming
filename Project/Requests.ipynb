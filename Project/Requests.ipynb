{
 "cells": [
  {
   "cell_type": "code",
   "execution_count": 1,
   "metadata": {},
   "outputs": [
    {
     "name": "stdout",
     "output_type": "stream",
     "text": [
      "{'status': 'error', 'code': 'parameterInvalid', 'message': 'You are trying to request results too far in the past. Your plan permits you to request articles as far back as 2023-07-23, but you have requested 2023-07-19. You may need to upgrade to a paid plan.'}\n"
     ]
    }
   ],
   "source": [
    "import requests\n",
    "\n",
    "url = ('https://newsapi.org/v2/everything?'\n",
    "       'q=bse&'\n",
    "       'from=2023-07-19&'\n",
    "       'sortBy=popularity&'\n",
    "       'apiKey=38b232c038634e84980bfec3ba2ae063')\n",
    "\n",
    "response = requests.get(url)\n",
    "print(response.json())"
   ]
  },
  {
   "cell_type": "code",
   "execution_count": 2,
   "metadata": {},
   "outputs": [
    {
     "name": "stdout",
     "output_type": "stream",
     "text": [
      "['result', 'anticip', 'dim', 'outsourc', 'outsourc', 'infosi', 'sign', 'year', 'billion', 'ai', 'autom', 'deal', 'unnam', 'exist', 'client', 'dai', 'releas', 'earn']\n"
     ]
    }
   ],
   "source": [
    "from gensim.utils import simple_preprocess\n",
    "from gensim.parsing.preprocessing import STOPWORDS\n",
    "from gensim.parsing.porter import PorterStemmer\n",
    "\n",
    "def preprocess_text(text):\n",
    "    # Tokenize and preprocess the text using Gensim\n",
    "    tokens = simple_preprocess(text, deacc=True)  # deacc=True removes accent marks\n",
    "    \n",
    "    # Remove stopwords\n",
    "    tokens = [token for token in tokens if token not in STOPWORDS]\n",
    "    \n",
    "    # Stem the tokens\n",
    "    p_stemmer = PorterStemmer()\n",
    "    tokens = [p_stemmer.stem(token) for token in tokens]\n",
    "    \n",
    "    return tokens\n",
    "\n",
    "# Example text\n",
    "text = \"Results were anticipated to be dim, so where does this put outsourcer now?\\nIT outsourcer Infosys has signed a five-year $2 billion AI and automation deal with an unnamed existing client just three days before it releases its Q1 2024 earnings\"\n",
    "\n",
    "# Preprocess the text\n",
    "preprocessed_tokens = preprocess_text(text)\n",
    "print(preprocessed_tokens)\n"
   ]
  },
  {
   "cell_type": "code",
   "execution_count": 3,
   "metadata": {},
   "outputs": [
    {
     "name": "stdout",
     "output_type": "stream",
     "text": [
      "['result', 'anticip', 'dim', 'put', 'outsourc', 'outsourc', 'infosi', 'sign', 'billion', 'ai', 'autom', 'deal', 'unnam', 'exist', 'client', 'three', 'day', 'releas', 'earn']\n"
     ]
    }
   ],
   "source": [
    "import nltk\n",
    "from nltk.corpus import stopwords\n",
    "from nltk.tokenize import word_tokenize\n",
    "from nltk.stem import PorterStemmer\n",
    "\n",
    "def preprocess_text(text):\n",
    "    # Tokenization\n",
    "    tokens = word_tokenize(text)\n",
    "    \n",
    "    # Lowercasing and removing punctuation\n",
    "    tokens = [word.lower() for word in tokens if word.isalpha()]\n",
    "    \n",
    "    # Removing stop words\n",
    "    stop_words = set(stopwords.words('english'))\n",
    "    tokens = [word for word in tokens if word not in stop_words]\n",
    "    \n",
    "    # Stemming\n",
    "    stemmer = PorterStemmer()\n",
    "    tokens = [stemmer.stem(word) for word in tokens]\n",
    "    \n",
    "    return tokens\n",
    "\n",
    "# Example text\n",
    "text = \"Results were anticipated to be dim, so where does this put outsourcer now?\\nIT outsourcer Infosys has signed a five-year $2 billion AI and automation deal with an unnamed existing client just three days before it releases its Q1 2024 earnings\"\n",
    "\n",
    "# Preprocess the text\n",
    "preprocessed_tokens = preprocess_text(text)\n",
    "print(preprocessed_tokens)\n"
   ]
  }
 ],
 "metadata": {
  "kernelspec": {
   "display_name": "base",
   "language": "python",
   "name": "python3"
  },
  "language_info": {
   "codemirror_mode": {
    "name": "ipython",
    "version": 3
   },
   "file_extension": ".py",
   "mimetype": "text/x-python",
   "name": "python",
   "nbconvert_exporter": "python",
   "pygments_lexer": "ipython3",
   "version": "3.11.4"
  },
  "orig_nbformat": 4
 },
 "nbformat": 4,
 "nbformat_minor": 2
}
