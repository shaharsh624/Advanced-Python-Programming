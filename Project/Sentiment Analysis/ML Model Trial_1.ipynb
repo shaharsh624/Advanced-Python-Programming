{
 "cells": [
  {
   "cell_type": "code",
   "execution_count": null,
   "metadata": {},
   "outputs": [],
   "source": [
    "%pip install --upgrade pip\n",
    "%pip install --disable-pip-version-check \\ torch==1.13.1 \\ torchdata==0.5.1 --quiet\n",
    "%pip install \\ transformers==4.27.2 \\ datasets==2.11.0  --quiet"
   ]
  },
  {
   "cell_type": "code",
   "execution_count": null,
   "metadata": {},
   "outputs": [],
   "source": [
    "from transformers import AutoModelForSeq2SeqLM\n",
    "from transformers import AutoTokenizer\n",
    "from transformers import GenerationConfig"
   ]
  },
  {
   "cell_type": "code",
   "execution_count": null,
   "metadata": {},
   "outputs": [],
   "source": [
    "model_name='google/flan-t5-base'\n",
    "model = AutoModelForSeq2SeqLM.from_pretrained(model_name)"
   ]
  },
  {
   "cell_type": "code",
   "execution_count": null,
   "metadata": {},
   "outputs": [],
   "source": [
    "tokenizer = AutoTokenizer.from_pretrained(model_name, use_fast=True)"
   ]
  },
  {
   "cell_type": "code",
   "execution_count": null,
   "metadata": {},
   "outputs": [],
   "source": [
    "\n",
    "train_data = \"\"\"\n",
    "Article:\n",
    "HDFC Bank Ltd. wants to use home lending as a gateway for the world’s sixth largest lender to capture more consumer finance customers with loans on everything from air conditioners to cars and TVs. The Mumbai-based bank is converting about 530 offices that previously specialized in mortgages into ones with fully-fledged banking services in the coming months, said Kaizad Bharucha. The HDFC Bank deputy managing director said his firm can now offer home loans at more than three times the locations following its merger with HDFC Ltd. and that’s just the start. “When he takes a house, he takes a consumer finance loan, which means he’s taking a loan to buy his appliances,” Bharucha said in an interview. “He doesn’t have to go anywhere” else, Bharucha said. It’s an opportune moment for HDFC Bank as demand from retail customers surges across India, the world’s most populous country. The nation’s banks and shadow lenders have been expanding into consumer finance as demand for loans from retail customers surged 22% over the past year. The intensifying competition has drawn the likes of Jio Financial Services Ltd., a unit of Mukesh Ambani’s Reliance Industries Ltd., that’s looking to get a slice of the action. Bharucha added his bank also aims to boost loans for affordable housing and construction finance. The firm, that’s backed by Life Insurance Corp of India and Singapore’s sovereign wealth fund GIC Pte., is making decisions on staffing and the technology needed for the ramp up, he said. About 70% of the erstwhile mortgage lender’s customers did not bank with HDFC Bank and only 2% of the bank’s customers previously sourced their home loans from it, the firm has said. HDFC’s gross nonperforming assets are among the lowest compared to its private-sector peers and stood at 1.13% as a ratio of customer assets at the end of June. “We’ve always put guard rails and been selective,” Bharucha said. “There is a way to be prudent and grow — it is not one at the cost of the other. And that is what we’ve demonstrated over the years.”\n",
    "\n",
    "Sentiment Score\n",
    "0.80\n",
    "\n",
    "Article:\n",
    "HDFC Bank chief Sashidhar Jagdishan on Friday flagged funding as a risk for the lender after the successful USD 40 billion amalgamation with its parent. \"As you know, the risks of the merger is the funding part of it,” Jagdishan told shareholders of the largest private sector lender at its maiden annual general meeting after the merger came into effect from July 1. It can be noted that the bank has not been fully successful in getting all the forbearance it had sought from the Reserve Bank of India (RBI) on the liabilities front. The RBI refused to provide any exemptions on Cash Reserve Ratio (CRR) and Statutory Liquidity Ratio (SLR) requirements on the deposits that come from HDFC, which was a deposit-taking entity. Additionally, questions were raised about the likely impact on HDFC Bank with respect to the RBI’s move to put an incremental CRR of 10 per cent on deposit accretions in all the scheduled commercial banks after May. Jagdishan exuded confidence that the bank will be able to surmount the funding challenge, pointing out that the board, senior leadership and staff are cognizant of the work at hand. The Chief Executive Officer and Managing Director said the merger, and the timing, made sense because of the advantages that it offers, and added that the staff is ”excited” to take on the funding challenge. ”I think time will tell but we’re extremely confident at the way that we have grown over the last 10 years, there is no reason why we will not be able to surmount the challenges and even grab the opportunity to grow similarly over the next many years,” he said. The bank has sought shareholders’ approval to raise up to Rs 50,000 crore from bond issuances going ahead and will be active on this front as part of its liabilities management, Jagdishan said. Merger with HDFC is all set to impact the Net Interest Margins (NIMs) of the bank because of the higher proportion of the low-interest yielding housing loans which get added, Jagdishan said, adding that the same will be visible from the results for the September quarter itself. However, the housing loans also present advantages in terms of better repayment ratios which lower the credit costs on such advances, Jagdishan said. The bank, which has always reported NIMs between 4-4.4 per cent range, is confident of getting the profitability or the returns back to historical levels in up to 18 months, he said. ”It’s been always a philosophy that we will not compromise growth for profitability,” Jagdishan said. Amid some issues of misbehavior by staff being flagged on social media, including a loud shouting by a senior employee to a subordinate for not meeting business targets, Jagdishan said employees’ satisfaction and organisational culture are priorities for the bank management and the board. He also promised to publish employee satisfaction survey results along with the annual report from next year.\n",
    "\n",
    "Sentiment Score\n",
    "-0.60\n",
    "\n",
    "Article:\n",
    "HDFC Bank's Sashidhar Jagdishan has emerged as the highest-paid bank chief executive in FY23, grossing over Rs 10.55 crore in overall pay. Jagdishan's colleague Kaizad Bharucha, the deputy managing director of the largest private sector lender, drew Rs 10 crore for the fiscal year and may be the second-highest grossing banker in the country, according to disclosures made in annual reports. Among the bank CEOs, Axis Bank's Amitabh Chaudhry's Rs 9.75 crore payout was the second biggest and he was closely followed by Sandeep Bakhshi of bigger rival ICICI Bank, who drew Rs 9.60 crore for the fiscal year. Uday Kotak, who holds over 26 per cent of Kotak Mahindra Bank, continued with his decision to take a token Re 1 as remuneration started in the pandemic, even in FY23. At a time when the banking sector is grappling with the attrition problem, Kotak Mahindra Bank stood out on the compensation front, reporting a 16.97 per cent increase in the average remuneration to its staffers excluding the managerial talent. Staffers at ICICI Bank were given an 11 per cent hike, while those at Axis Bank enjoyed an inflation-beating 7.6 per cent average increase. HDFC Bank reported an average pay hike of 2.51 per cent. Interestingly, south-based Federal Bank, which has among the lowest attrition rates in the industry, reported an average pay hike of only 2.67 per cent. When it comes to the top management remuneration's comparison with the median remuneration, Jagdishan topped the list, drawing 150 times the average HDFC Bank employee, and was followed by Bakhshi at 119 times and Chaudhry at 101 times the median salary of staffers at Axis Bank. Jagdishan's package included a basic salary of Rs 2.82 crore, allowances and perquisites of Rs 3.31 crore, provident fund of Rs 33.92 lakh and a performance bonus of Rs 3.63 crore, its annual report said. When looked at from a percentage hike perspective, the reported remuneration for Jagdishan grew by 62 per cent over the Rs 6.51 crore in remuneration he had drawn in FY22. ICICI Bank CEO Bakhshi's overall remuneration was higher by over 35 per cent, while the same for Chaudhry was nearly 28 per cent higher. It can be noted that there have been cases where RBI has approved the wage revisions for top management for FY22 after the completion of the year, and the remunerations reported in FY23 may include the arrears of the fiscal year gone. The disclosed hikes in remuneration by banks for its key management personnel may be lower. PTI AA MR\n",
    "\n",
    "Sentiment Score:\n",
    "0.60\n",
    "\n",
    "Article:\n",
    "After having burned their fingers in the bad loan crisis that roiled the power sector back in 2017, Indian banks have truly managed to turn a corner. They now record a robust credit growth amid low slippages, while constantly providing for bad loans. However, there might be more than what meets the eye, believes ASV Krishnan of HDFC Securities. \"I feel many banks don’t admit to funding capex anymore. That seems to be a taboo. May be because they feel capital markets will not like it if banks say that they are locking capital for a long duration with a corporate,\" he said in an interview with Moneycontrol. Krishnan, who has been tracking markets since 2006, has seen some critical ​cycles in the financial sector, from the IL&FS crisis to bad loan pile-up and recently, the robust credit growth cycle. The credit cycle has been largely driven by retail lending, while corporate book has not taken off in a big way since the Covid lockdowns. \"That's the surprising thing. Inflation was skyrocketing, which simply means demand was overshooting supply. When that happens, entrepreneurs, businessmen typically see the need to build more capacity. They know that capacity utilisation has reached a certain stage and they can incur capex. Strangely, that cycle did not take off from large companies,\" he pointed out. One of the reasons why banks are staying away from corporate lending is concentration risk. Across multiple capital-guzzling industries, we are entering a scenario where there are a few strong players left, said Krishnan. \"Look at power, telecom and aviation. You have very few players left there. And, everybody wants to lend to them. Such a concentration risk can never be healthy,\" he said. As lenders continue to expand retail lending, Krishnan sees bad assets building up in the backyard. With competitive intensity high, everybody wants to dole out personal loans, which means risk is not being suitably priced, he said. \"Bad assets are definitely building up, but it will take a while to play out on the balance sheet. This is only the start of the cycle.\" Read the full interview here Since March lows, the Nifty Bank index has gained over 15 percent, despite several banks reporting a decline in net interest margins in Q1 FY24. The lenders are expected to see further contraction in NIMs in FY24 as deposit rate hikes take effect better. Disclaimer: The views and investment tips expressed by investment experts on Moneycontrol.com are their own and not those of the website or its management. Moneycontrol.com advises users to check with certified experts before taking any investment decisions.\n",
    "\n",
    "Sentiment Score:\n",
    "-0.50\n",
    "\n",
    "\"\"\"\n",
    "\n",
    "test_data = \"\"\"\n",
    "\n",
    "Article:\n",
    "The revised free float of HDFC Bank, as a consequence of its merger with Housing Development Finance Corporation (HDFC), will be implemented in three tranches starting from September 2023 onwards, FTSE Russell said in a notification issued on August 7. \"FTSE Russell proposes to implement the upweight of HDFC Bank in three tranches in conjunction with the September 2023, December 2023, and March 2024 index reviews, with the December and March tranches contingent on the company’s foreign headroom continuing to satisfy the minimum 10 percent headroom requirement,\" the notification stated. Currently, the shares in the issue amount to 308.2 crore, with an investability weight of 95.9 percent. The index shares add up to 295.8 crore. In the first tranche of September, the shares in issue will come in at 754.49 crore, with an investability weight of 74 percent, and the index shares will be numbered at 383.3 crore. The tranching factor at this stage will be 33 percent, as per the details shared by FTSE. In the second tranche of December 2023, the tranching factor will increase to 66 percent, the shares in issue will be 754.49 crore, the investability weight will be 74 percent and the index shares will add up to 470.8 crore. In the third tranche of March 2024, the tranching factor will reach the 100 percent-mark, and the index shares will rise to 558.3 crore. The shares in issue will remain the same as 754.49 crore and the investability will continue to be 74 percent. \"FTSE Russell has considered client feedback on the significant size of the projected upweight and the potential impact to the company’s foreign headroom if the shares in issue and free float update are implemented in their entirety on a one-off basis at the September review,\" the notification said, adding that consequently it was decided to implement the changes in three tranches. The HDFC-HDFC Bank merger came into effect on July 1, leading to the formation of a $172 billion-merged bank entity, which is ranked fourth in equity market capitalisation in the world. As a result of the merger, the shares of HDFC were delisted from the Indian bourses on July 13.\n",
    "\n",
    "What should be sentiment score??\n",
    "\n",
    "\"\"\""
   ]
  },
  {
   "cell_type": "code",
   "execution_count": null,
   "metadata": {},
   "outputs": [],
   "source": [
    "prompt = train_data + test_data\n",
    "\n",
    "# Input constructed prompt instead of the dialogue.\n",
    "inputs = tokenizer(prompt, return_tensors='pt')\n",
    "output = tokenizer.decode(\n",
    "    model.generate(\n",
    "        inputs[\"input_ids\"],\n",
    "        max_new_tokens=700,\n",
    "    )[0],\n",
    "    skip_special_tokens=True\n",
    ")\n",
    "\n",
    "print(f'Output:\\n{output}\\n')"
   ]
  },
  {
   "cell_type": "code",
   "execution_count": null,
   "metadata": {},
   "outputs": [],
   "source": []
  }
 ],
 "metadata": {
  "kernelspec": {
   "display_name": "Python 3",
   "language": "python",
   "name": "python3"
  },
  "language_info": {
   "codemirror_mode": {
    "name": "ipython",
    "version": 3
   },
   "file_extension": ".py",
   "mimetype": "text/x-python",
   "name": "python",
   "nbconvert_exporter": "python",
   "pygments_lexer": "ipython3",
   "version": "3.10.6"
  },
  "orig_nbformat": 4
 },
 "nbformat": 4,
 "nbformat_minor": 2
}
