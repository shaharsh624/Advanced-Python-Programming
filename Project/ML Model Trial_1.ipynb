{
 "cells": [
  {
   "cell_type": "code",
   "execution_count": 1,
   "metadata": {},
   "outputs": [],
   "source": [
    "from transformers import AutoModelForSeq2SeqLM\n",
    "from transformers import AutoTokenizer\n",
    "from transformers import GenerationConfig"
   ]
  },
  {
   "cell_type": "code",
   "execution_count": 3,
   "metadata": {},
   "outputs": [],
   "source": [
    "model_name='google/flan-t5-base'\n",
    "model = AutoModelForSeq2SeqLM.from_pretrained(model_name)"
   ]
  },
  {
   "cell_type": "code",
   "execution_count": 19,
   "metadata": {},
   "outputs": [
    {
     "name": "stdout",
     "output_type": "stream",
     "text": [
      "Zero Shot:\n",
      "Tech Company XYZ has surprised the market with impressive Q2 2023 financial results, showing a 25% revenue growth and a 40% rise in EPS year-over-year. The stock surged by 15% in after-hours\n",
      "\n"
     ]
    }
   ],
   "source": [
    "# Zero Shot Prompt\n",
    "\n",
    "dataset = '''\n",
    "Tech Company XYZ has surprised the market with impressive Q2 2023 financial results, showing a 25% revenue growth and a 40% rise in EPS year-over-year. The stock surged by 15% in after-hours trading due to strong software sales and strategic cost management. Investors now face the decision of buying more shares to capitalize on the momentum or taking profits. Financial experts advise considering both short and long-term factors, including market trends, company competitiveness, and growth prospects, before making investment choices in this dynamic market situation.\n",
    "'''\n",
    "\n",
    "prompt = f\"\"\"\n",
    "Should I invest in the stock.\n",
    "\n",
    "{dataset}\n",
    "\n",
    "Summary:\n",
    "    \"\"\"\n",
    "\n",
    "# Input constructed prompt instead of the dialogue.\n",
    "inputs = tokenizer(prompt, return_tensors='pt')\n",
    "output = tokenizer.decode(\n",
    "    model.generate(\n",
    "        inputs[\"input_ids\"], \n",
    "        max_new_tokens=50,\n",
    "    )[0], \n",
    "    skip_special_tokens=True\n",
    ")\n",
    "    \n",
    "print(f'Zero Shot:\\n{output}\\n')"
   ]
  },
  {
   "cell_type": "code",
   "execution_count": 16,
   "metadata": {},
   "outputs": [
    {
     "name": "stdout",
     "output_type": "stream",
     "text": [
      "Few Shot:\n",
      "Hold\n",
      "\n"
     ]
    }
   ],
   "source": [
    "# Few Shot Prompt\n",
    "\n",
    "train_data = \"\"\"\n",
    "News:\n",
    "Pharmaceutical Company ABC's stock has dropped significantly after the announcement that its experimental drug did not meet the primary endpoint in a clinical trial. The stock price has fallen by 30% as investors react to the disappointing news.\n",
    "\n",
    "What should I do (Buy/Sell/Hold) Stock:\n",
    "Sell\n",
    "\n",
    "News:\n",
    "Retail Giant XYZ has reported robust Q4 earnings, exceeding expectations and leading to a 20% increase in its stock price. The company cites increased online sales and successful holiday season promotions as key contributors to its impressive performance.\n",
    "\n",
    "What should I do (Buy/Sell/Hold) Stock:\n",
    "Hold\n",
    "\n",
    "News:\n",
    "Energy Company ABC's stock price has fallen by 15% following news of an environmental lawsuit filed against the company for alleged regulatory violations related to pollution and waste disposal practices.\n",
    "\n",
    "What should I do (Buy/Sell/Hold) Stock:\n",
    "Sell\n",
    "\n",
    "News:\n",
    "Tech Startup XYZ's stock price has surged by 25% after it announced a breakthrough in artificial intelligence technology that could revolutionize the industry. Investors are enthusiastic about the company's potential to disrupt the market.\n",
    "\n",
    "What should I do (Buy/Sell/Hold) Stock:\n",
    "Buy\n",
    "\n",
    "News:\n",
    "Auto Manufacturer ABC's stock has experienced a 10% decline as the company faces supply chain disruptions due to a shortage of essential components, impacting its production capacity.\n",
    "\n",
    "What should I do (Buy/Sell/Hold) Stock:\n",
    "Hold\n",
    "\n",
    "News:\n",
    "E-commerce Company ABC's stock price shows mixed reactions after it announces the acquisition of a major competitor. Some investors view the move positively, while others are concerned about potential integration challenges.\n",
    "\n",
    "What should I do (Buy/Sell/Hold) Stock:\n",
    "Hold\n",
    "\"\"\"\n",
    "\n",
    "test_data = \"\"\"\n",
    "News:\n",
    "Banking Institution XYZ is under regulatory investigation for potential violations related to money laundering. Despite the news, the stock price remains relatively stable, showing only minor fluctuations.\n",
    "\n",
    "What should I do (Buy/Sell/Hold) Stock:\n",
    "\"\"\"\n",
    "\n",
    "few_shot_prompt = train_data + test_data\n",
    "\n",
    "# Input constructed prompt instead of the dialogue.\n",
    "inputs = tokenizer(few_shot_prompt, return_tensors='pt')\n",
    "output = tokenizer.decode(\n",
    "    model.generate(\n",
    "        inputs[\"input_ids\"],\n",
    "        max_new_tokens=70,\n",
    "    )[0], \n",
    "    skip_special_tokens=True\n",
    ")\n",
    "    \n",
    "print(f'Few Shot:\\n{output}\\n')"
   ]
  },
  {
   "cell_type": "code",
   "execution_count": null,
   "metadata": {},
   "outputs": [],
   "source": []
  }
 ],
 "metadata": {
  "kernelspec": {
   "display_name": "Python 3",
   "language": "python",
   "name": "python3"
  },
  "language_info": {
   "codemirror_mode": {
    "name": "ipython",
    "version": 3
   },
   "file_extension": ".py",
   "mimetype": "text/x-python",
   "name": "python",
   "nbconvert_exporter": "python",
   "pygments_lexer": "ipython3",
   "version": "3.11.4"
  },
  "orig_nbformat": 4
 },
 "nbformat": 4,
 "nbformat_minor": 2
}
